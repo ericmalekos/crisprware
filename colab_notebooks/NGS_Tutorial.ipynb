{
  "nbformat": 4,
  "nbformat_minor": 0,
  "metadata": {
    "colab": {
      "provenance": [],
      "collapsed_sections": [
        "8x-v3eN4mrcA",
        "RX8nkrGy_j2B",
        "9jZdKmW2xF90",
        "LyJ-6IWeJOGP"
      ]
    },
    "kernelspec": {
      "name": "python3",
      "display_name": "Python 3"
    },
    "language_info": {
      "name": "python"
    }
  },
  "cells": [
    {
      "cell_type": "markdown",
      "source": [
        "# **Installation and Setup**\n",
        "\n",
        "---\n",
        "\n",
        "Run this to set up CRISPRware environment in Colab\n",
        "\n"
      ],
      "metadata": {
        "id": "8x-v3eN4mrcA"
      }
    },
    {
      "cell_type": "code",
      "execution_count": 1,
      "metadata": {
        "colab": {
          "base_uri": "https://localhost:8080/"
        },
        "id": "rQIW6V6_mjVD",
        "outputId": "91ed35e1-9f62-45b5-d672-e88fb2ea8f91"
      },
      "outputs": [
        {
          "output_type": "stream",
          "name": "stdout",
          "text": [
            "bin/micromamba\n"
          ]
        }
      ],
      "source": [
        "!mkdir -p /root/.mamba/pkgs\n",
        "!chmod -R 777 /root/.mamba\n",
        "!wget -qO- https://micromamba.snakepit.net/api/micromamba/linux-64/latest | tar -xvj bin/micromamba"
      ]
    },
    {
      "cell_type": "code",
      "source": [
        "!git clone https://github.com/ericmalekos/crisprware crisprware\n",
        "%cd crisprware"
      ],
      "metadata": {
        "colab": {
          "base_uri": "https://localhost:8080/"
        },
        "id": "Q9u-5eSxm7rj",
        "outputId": "27227d42-bac4-4713-fbe1-0299ef791172"
      },
      "execution_count": 2,
      "outputs": [
        {
          "output_type": "stream",
          "name": "stdout",
          "text": [
            "Cloning into 'crisprware'...\n",
            "remote: Enumerating objects: 630, done.\u001b[K\n",
            "remote: Counting objects: 100% (157/157), done.\u001b[K\n",
            "remote: Compressing objects: 100% (118/118), done.\u001b[K\n",
            "remote: Total 630 (delta 97), reused 90 (delta 37), pack-reused 473 (from 1)\u001b[K\n",
            "Receiving objects: 100% (630/630), 107.79 MiB | 12.50 MiB/s, done.\n",
            "Resolving deltas: 100% (298/298), done.\n",
            "Updating files: 100% (125/125), done.\n",
            "/content/crisprware\n"
          ]
        }
      ]
    },
    {
      "cell_type": "code",
      "source": [
        "!/content/bin/micromamba env create -f environment.yml -n crisprware --root-prefix /content/micromamba --quiet -y\n",
        "!/content/bin/micromamba run -n crisprware --root-prefix /content/micromamba pip install ."
      ],
      "metadata": {
        "colab": {
          "base_uri": "https://localhost:8080/"
        },
        "id": "v_4JRmKauiGd",
        "outputId": "e2f3d0da-68f8-4e08-83e1-c662c8414d00"
      },
      "execution_count": 3,
      "outputs": [
        {
          "output_type": "stream",
          "name": "stdout",
          "text": [
            "\u001b[33m\u001b[1mwarning  libmamba\u001b[m You are using 'pip' as an additional package manager.\n",
            "    Be aware that packages installed with 'pip' are managed independently from 'conda-forge' channel.\n",
            "\u001b[2K   \u001b[90m━━━━━━━━━━━━━━━━━━━━━━━━━━━━━━━━━━━━━━━━\u001b[0m \u001b[32m2.0/2.0 MB\u001b[0m \u001b[31m35.4 MB/s\u001b[0m eta \u001b[36m0:00:00\u001b[0m\n",
            "\u001b[2K   \u001b[90m━━━━━━━━━━━━━━━━━━━━━━━━━━━━━━━━━━━━━━━━\u001b[0m \u001b[32m6.2/6.2 MB\u001b[0m \u001b[31m76.5 MB/s\u001b[0m eta \u001b[36m0:00:00\u001b[0m\n",
            "\u001b[2K   \u001b[90m━━━━━━━━━━━━━━━━━━━━━━━━━━━━━━━━━━━━━━━━\u001b[0m \u001b[32m12.7/12.7 MB\u001b[0m \u001b[31m77.1 MB/s\u001b[0m eta \u001b[36m0:00:00\u001b[0m\n",
            "\u001b[2K   \u001b[90m━━━━━━━━━━━━━━━━━━━━━━━━━━━━━━━━━━━━━━━━\u001b[0m \u001b[32m39.9/39.9 MB\u001b[0m \u001b[31m36.5 MB/s\u001b[0m eta \u001b[36m0:00:00\u001b[0m\n",
            "\u001b[2K   \u001b[90m━━━━━━━━━━━━━━━━━━━━━━━━━━━━━━━━━━━━━━━━\u001b[0m \u001b[32m12.9/12.9 MB\u001b[0m \u001b[31m98.9 MB/s\u001b[0m eta \u001b[36m0:00:00\u001b[0m\n",
            "\u001b[2K   \u001b[90m━━━━━━━━━━━━━━━━━━━━━━━━━━━━━━━━━━━━━━━━\u001b[0m \u001b[32m40.8/40.8 MB\u001b[0m \u001b[31m52.6 MB/s\u001b[0m eta \u001b[36m0:00:00\u001b[0m\n",
            "\u001b[?25hProcessing /content/crisprware\n",
            "  Preparing metadata (setup.py) ... \u001b[?25l\u001b[?25hdone\n",
            "Requirement already satisfied: pybedtools>=0.9 in /content/micromamba/envs/crisprware/lib/python3.12/site-packages (from crisprware==0.1.0) (0.10.0)\n",
            "Requirement already satisfied: rs3>=0.0.15 in /content/micromamba/envs/crisprware/lib/python3.12/site-packages (from crisprware==0.1.0) (0.0.16)\n",
            "Requirement already satisfied: biopython>=1.8 in /content/micromamba/envs/crisprware/lib/python3.12/site-packages (from crisprware==0.1.0) (1.84)\n",
            "Requirement already satisfied: lightgbm==3.3.5 in /content/micromamba/envs/crisprware/lib/python3.12/site-packages (from crisprware==0.1.0) (3.3.5)\n",
            "Requirement already satisfied: pybigwig in /content/micromamba/envs/crisprware/lib/python3.12/site-packages (from crisprware==0.1.0) (0.3.22)\n",
            "Requirement already satisfied: pandas in /content/micromamba/envs/crisprware/lib/python3.12/site-packages (from crisprware==0.1.0) (2.2.3)\n",
            "Requirement already satisfied: numpy in /content/micromamba/envs/crisprware/lib/python3.12/site-packages (from crisprware==0.1.0) (1.26.4)\n",
            "Requirement already satisfied: wheel in /content/micromamba/envs/crisprware/lib/python3.12/site-packages (from lightgbm==3.3.5->crisprware==0.1.0) (0.44.0)\n",
            "Requirement already satisfied: scipy in /content/micromamba/envs/crisprware/lib/python3.12/site-packages (from lightgbm==3.3.5->crisprware==0.1.0) (1.14.1)\n",
            "Requirement already satisfied: scikit-learn!=0.22.0 in /content/micromamba/envs/crisprware/lib/python3.12/site-packages (from lightgbm==3.3.5->crisprware==0.1.0) (1.5.2)\n",
            "Requirement already satisfied: pysam in /content/micromamba/envs/crisprware/lib/python3.12/site-packages (from pybedtools>=0.9->crisprware==0.1.0) (0.22.1)\n",
            "Requirement already satisfied: pip in /content/micromamba/envs/crisprware/lib/python3.12/site-packages (from rs3>=0.0.15->crisprware==0.1.0) (24.2)\n",
            "Requirement already satisfied: packaging in /content/micromamba/envs/crisprware/lib/python3.12/site-packages (from rs3>=0.0.15->crisprware==0.1.0) (24.1)\n",
            "Requirement already satisfied: joblib>=1.0.1 in /content/micromamba/envs/crisprware/lib/python3.12/site-packages (from rs3>=0.0.15->crisprware==0.1.0) (1.4.2)\n",
            "Requirement already satisfied: sglearn>=1.2.5 in /content/micromamba/envs/crisprware/lib/python3.12/site-packages (from rs3>=0.0.15->crisprware==0.1.0) (1.2.5)\n",
            "Requirement already satisfied: tqdm>=4.61.2 in /content/micromamba/envs/crisprware/lib/python3.12/site-packages (from rs3>=0.0.15->crisprware==0.1.0) (4.66.5)\n",
            "Requirement already satisfied: pyarrow>=4.0.1 in /content/micromamba/envs/crisprware/lib/python3.12/site-packages (from rs3>=0.0.15->crisprware==0.1.0) (17.0.0)\n",
            "Requirement already satisfied: requests>=2.25.1 in /content/micromamba/envs/crisprware/lib/python3.12/site-packages (from rs3>=0.0.15->crisprware==0.1.0) (2.32.3)\n",
            "Requirement already satisfied: python-dateutil>=2.8.2 in /content/micromamba/envs/crisprware/lib/python3.12/site-packages (from pandas->crisprware==0.1.0) (2.9.0)\n",
            "Requirement already satisfied: pytz>=2020.1 in /content/micromamba/envs/crisprware/lib/python3.12/site-packages (from pandas->crisprware==0.1.0) (2024.2)\n",
            "Requirement already satisfied: tzdata>=2022.7 in /content/micromamba/envs/crisprware/lib/python3.12/site-packages (from pandas->crisprware==0.1.0) (2024.2)\n",
            "Requirement already satisfied: six>=1.5 in /content/micromamba/envs/crisprware/lib/python3.12/site-packages (from python-dateutil>=2.8.2->pandas->crisprware==0.1.0) (1.16.0)\n",
            "Requirement already satisfied: charset-normalizer<4,>=2 in /content/micromamba/envs/crisprware/lib/python3.12/site-packages (from requests>=2.25.1->rs3>=0.0.15->crisprware==0.1.0) (3.4.0)\n",
            "Requirement already satisfied: idna<4,>=2.5 in /content/micromamba/envs/crisprware/lib/python3.12/site-packages (from requests>=2.25.1->rs3>=0.0.15->crisprware==0.1.0) (3.10)\n",
            "Requirement already satisfied: urllib3<3,>=1.21.1 in /content/micromamba/envs/crisprware/lib/python3.12/site-packages (from requests>=2.25.1->rs3>=0.0.15->crisprware==0.1.0) (2.2.3)\n",
            "Requirement already satisfied: certifi>=2017.4.17 in /content/micromamba/envs/crisprware/lib/python3.12/site-packages (from requests>=2.25.1->rs3>=0.0.15->crisprware==0.1.0) (2024.8.30)\n",
            "Requirement already satisfied: threadpoolctl>=3.1.0 in /content/micromamba/envs/crisprware/lib/python3.12/site-packages (from scikit-learn!=0.22.0->lightgbm==3.3.5->crisprware==0.1.0) (3.5.0)\n",
            "Requirement already satisfied: seqfold>=0.7.7 in /content/micromamba/envs/crisprware/lib/python3.12/site-packages (from sglearn>=1.2.5->rs3>=0.0.15->crisprware==0.1.0) (0.7.18)\n",
            "Building wheels for collected packages: crisprware\n",
            "  Building wheel for crisprware (setup.py) ... \u001b[?25l\u001b[?25hdone\n",
            "  Created wheel for crisprware: filename=crisprware-0.1.0-py3-none-any.whl size=64912 sha256=23e522ff4f23182efd02514e20b83a24a691e7e3da92fbedd7c152ca05acbd4e\n",
            "  Stored in directory: /tmp/pip-ephem-wheel-cache-84l7enb7/wheels/49/d7/cb/e2e426ba44c1c6ee042d0844ef83de0fd1b884eb93cadf962e\n",
            "Successfully built crisprware\n",
            "Installing collected packages: crisprware\n",
            "Successfully installed crisprware-0.1.0\n"
          ]
        }
      ]
    },
    {
      "cell_type": "code",
      "source": [
        "# A helper function to run commands in the crisprware environment\n",
        "# Wrap each module in this command before running\n",
        "# This is only required in the Colab environment\n",
        "def run_in_crisprware(command):\n",
        "  !/content/bin/micromamba run -n crisprware --root-prefix /content/micromamba {command}"
      ],
      "metadata": {
        "id": "Abxei8YWM5me"
      },
      "execution_count": 4,
      "outputs": []
    },
    {
      "cell_type": "markdown",
      "source": [
        "# RNASeq\n",
        "\n",
        "This section covers usage of RNASeq quantification to limit the search space to expressed transcripts.\n",
        "\n",
        "\n",
        "---"
      ],
      "metadata": {
        "id": "qbX5gcsjrePV"
      }
    },
    {
      "cell_type": "markdown",
      "source": [
        "### Kallisto example\n",
        "\n",
        "The Encode consortium uses Kallisto for transcript quantification in their cell line characterization studies. We can find Kallisto quantification files in the K526 cell line at [Encode project ENCSR000CPH](https://www.encodeproject.org/experiments/ENCSR000CPH/). The documenation indicates they used the [Gencode Hg38 v29 annotation](https://www.gencodegenes.org/human/release_29.html) so we download that as well."
      ],
      "metadata": {
        "id": "re6zulYNVpJ_"
      }
    },
    {
      "cell_type": "code",
      "source": [
        "%cd /content/crisprware/\n",
        "!mkdir -p kallisto\n",
        "%cd kallisto\n",
        "!wget -q --show-progress -O K562_rep1.tsv https://www.encodeproject.org/files/ENCFF823JHX/@@download/ENCFF823JHX.tsv\n",
        "!wget -q --show-progress -O K562_rep2.tsv https://www.encodeproject.org/files/ENCFF940GYO/@@download/ENCFF940GYO.tsv\n",
        "!wget -q --show-progress -O gencode.v29.gtf.gz https://ftp.ebi.ac.uk/pub/databases/gencode/Gencode_human/release_29/gencode.v29.chr_patch_hapl_scaff.annotation.gtf.gz && gunzip -f gencode.v29.gtf.gz\n",
        "!ls"
      ],
      "metadata": {
        "colab": {
          "base_uri": "https://localhost:8080/"
        },
        "id": "eVDjmmjSYcpZ",
        "outputId": "8f42b440-1502-473a-cca5-0f71011b14b9"
      },
      "execution_count": 5,
      "outputs": [
        {
          "output_type": "stream",
          "name": "stdout",
          "text": [
            "/content/crisprware\n",
            "/content/crisprware/kallisto\n",
            "K562_rep1.tsv       100%[===================>]  27.58M  24.1MB/s    in 1.1s    \n",
            "K562_rep2.tsv       100%[===================>]  27.58M  22.9MB/s    in 1.2s    \n",
            "gencode.v29.gtf.gz  100%[===================>]  40.76M  24.5MB/s    in 1.7s    \n",
            "gencode.v29.gtf  K562_rep1.tsv\tK562_rep2.tsv\n"
          ]
        }
      ]
    },
    {
      "cell_type": "markdown",
      "source": [
        "When we check the quantification files we see that much besides the transcript_id is present in the first column, and when we check that all entries have the expected ENST00000######.# trasncript identifier we see that spike-ins are included. Let's remove this extra information."
      ],
      "metadata": {
        "id": "VGpE_annZhtF"
      }
    },
    {
      "cell_type": "code",
      "source": [
        "!echo \"Extra info in the id column:\" && head -5 K562_rep1.tsv && echo \"\"\n",
        "!echo \"Unexpected entries not found in Gencode:\" && grep -v \"ENST\" K562_rep1.tsv | tail -4 && echo \"\"\n",
        "!echo \"Cleaning files\" && for file in *.tsv; do { head -n1 \"$file\"; awk -F'\\t' 'NR>1 && /ENST/ {split($1,a,\"|\"); $1=a[1]; print}' OFS='\\t' \"$file\"; } > \"${file%.tsv}_cleaned.tsv\"; done && echo \"\"\n",
        "!echo \"Reformated files:\" && head -5 K562_rep1_cleaned.tsv && echo \"\""
      ],
      "metadata": {
        "colab": {
          "base_uri": "https://localhost:8080/"
        },
        "id": "Y3bZLjJqbzC9",
        "outputId": "bf66348e-e5d1-49a8-b942-c9f0f683fbe2"
      },
      "execution_count": 6,
      "outputs": [
        {
          "output_type": "stream",
          "name": "stdout",
          "text": [
            "Extra info in the id column:\n",
            "target_id\tlength\teff_length\test_counts\ttpm\n",
            "ENST00000456328.2|ENSG00000223972.5|OTTHUMG00000000961.2|OTTHUMT00000362751.1|DDX11L1-202|DDX11L1|1657|processed_transcript|\t1657\t1480.58\t52.0305\t0.439011\n",
            "ENST00000450305.2|ENSG00000223972.5|OTTHUMG00000000961.2|OTTHUMT00000002844.2|DDX11L1-201|DDX11L1|632|transcribed_unprocessed_pseudogene|\t632\t455.749\t0\t0\n",
            "ENST00000488147.1|ENSG00000227232.5|OTTHUMG00000000958.1|OTTHUMT00000002839.1|WASH7P-201|WASH7P|1351|unprocessed_pseudogene|\t1351\t1174.58\t2072.92\t22.047\n",
            "ENST00000619216.1|ENSG00000278267.1|-|-|MIR6859-1-201|MIR6859-1|68|miRNA|\t68\t28.2727\t3.73048\t1.64833\n",
            "\n",
            "Unexpected entries not found in Gencode:\n",
            "ERCC-00168\t1024\t847.58\t5\t0.073695\n",
            "ERCC-00170\t1023\t846.58\t2725\t40.2112\n",
            "ERCC-00171\t505\t328.817\t968\t36.7765\n",
            "phiX174\t5386\t5209.58\t0\t0\n",
            "\n",
            "Cleaning files\n",
            "\n",
            "Reformated files:\n",
            "target_id\tlength\teff_length\test_counts\ttpm\n",
            "ENST00000456328.2\t1657\t1480.58\t52.0305\t0.439011\n",
            "ENST00000450305.2\t632\t455.749\t0\t0\n",
            "ENST00000488147.1\t1351\t1174.58\t2072.92\t22.047\n",
            "ENST00000619216.1\t68\t28.2727\t3.73048\t1.64833\n",
            "\n"
          ]
        }
      ]
    },
    {
      "cell_type": "markdown",
      "source": [
        "With the file properly formated, we can use the `preprocess_annotation` module to generate consensus models for each gene. We will require that a transcript has a median expression value of 10 TPM across the two replicates for it to pass filtering."
      ],
      "metadata": {
        "id": "r8yirVb6hppz"
      }
    },
    {
      "cell_type": "code",
      "source": [
        "run_in_crisprware('\\\n",
        "                  preprocess_annotation --tpm_files *_cleaned.tsv \\\n",
        "                  --gtf gencode.v29.gtf \\\n",
        "                  --median 10 \\\n",
        "                  --model consensus'\\\n",
        "                  )"
      ],
      "metadata": {
        "colab": {
          "base_uri": "https://localhost:8080/"
        },
        "id": "LFq077goiLVA",
        "outputId": "51ad66a4-9070-4cf4-eeac-dcaaf33da0cb"
      },
      "execution_count": 7,
      "outputs": [
        {
          "output_type": "stream",
          "name": "stdout",
          "text": [
            "\n",
            "\n",
            "\tProcessing isoform quantification files\n",
            "\n",
            "\tRemoving transcripts below threshold\n",
            "\n",
            "\tInferring file type from header line\n",
            "\n",
            "\t\tK562_rep1_cleaned.tsv is a Kallisto file\n",
            "\n",
            "\tInitial unique transcripts:\t\t\t206694\n",
            "\tTranscripts after filtering by expression:\t10392\n",
            "\n",
            "\tGenerating transcript-gene relationships\n",
            "\n",
            "\tSaving transcript-gene relationships to:\t/content/crisprware/kallisto/gencode.v29/tmp/tx2gene.tsv\n",
            "\tFinal unique genes:\t\t5728\n",
            "\tFinal unique transcripts:\t10392\n",
            "\tSaving quantification file to:\t\t/content/crisprware/kallisto/gencode.v29/tmp/filtered_gencode.v29.tsv\n",
            "\tSaving transcript filtered GTF to:\t/content/crisprware/kallisto/gencode.v29/gencode.v29_filtered.gtf\n",
            "\tSaving consensus GTF to: /content/crisprware/kallisto/gencode.v29/gencode.v29_consensus.gtf\n",
            "\n",
            "\tA CONSENSUS MODEL COULD NOT BE GENERATED FOR 68 GENES\n",
            "\tIf this number is large, consider filtering by TPM expression more strictly or using a more conservative GTF.\n",
            "\tIf this number is small, consider manually removing problematic transcripts from the quantification TSVs and rerunning this module.\n",
            "\tSaving genes for which there is no consensus model to:\t/content/crisprware/kallisto/gencode.v29/gencode.v29_genes_without_consensus_model.txt\n",
            "\n",
            "\n"
          ]
        }
      ]
    },
    {
      "cell_type": "markdown",
      "source": [
        "### Salmon example\n",
        "\n",
        "The paper [*Rauber & Mohammadian et al.*](https://www.nature.com/articles/s41590-024-01774-4) uses Salmon for quantification in human fibroblasts, deposited at [GEO accension GSE228953](https://www.ncbi.nlm.nih.gov/geo/query/acc.cgi?acc=GSE228953). According to the paper, the Enesembl 104 annotation is used which we can find at the [Ensembl FTP server](https://ftp.ensembl.org/pub/release-104/gtf/homo_sapiens/)"
      ],
      "metadata": {
        "id": "RX8nkrGy_j2B"
      }
    },
    {
      "cell_type": "code",
      "source": [
        "%cd /content/crisprware/\n",
        "!mkdir -p salmon\n",
        "%cd salmon\n",
        "!wget --show-progress -q -O GRCh38.104.gtf.gz https://ftp.ensembl.org/pub/release-104/gtf/homo_sapiens/Homo_sapiens.GRCh38.104.chr_patch_hapl_scaff.gtf.gz && gunzip -f GRCh38.104.gtf.gz\n",
        "!curl -L \"https://www.ncbi.nlm.nih.gov/geo/download/?acc=GSE228953&format=file\" -o GSE228953.tar && tar -xf GSE228953.tar\n",
        "!find . -name \"*quant.tar.gz\" -type f -exec sh -c 'tar -xzf \"$0\" -C \"$(dirname \"$0\")\" && rm \"$0\"' {} \\;\n",
        "!ls"
      ],
      "metadata": {
        "colab": {
          "base_uri": "https://localhost:8080/"
        },
        "collapsed": true,
        "id": "DTOkfLVF_t3t",
        "outputId": "35c623c9-757e-45e1-c96f-368b487dc704"
      },
      "execution_count": 8,
      "outputs": [
        {
          "output_type": "stream",
          "name": "stdout",
          "text": [
            "/content/crisprware\n",
            "/content/crisprware/salmon\n",
            "GRCh38.104.gtf.gz   100%[===================>]  51.33M  22.4MB/s    in 2.3s    \n",
            "  % Total    % Received % Xferd  Average Speed   Time    Time     Time  Current\n",
            "                                 Dload  Upload   Total   Spent    Left  Speed\n",
            "100 50.1M  100 50.1M    0     0  43.1M      0  0:00:01  0:00:01 --:--:-- 43.1M\n",
            "GRCh38.104.gtf\tPsA_ST4_quant  PsA_ST8_quant  RA_ST2_quant  RA_ST6_quant\n",
            "GSE228953.tar\tPsA_ST5_quant  PsA_ST9_quant  RA_ST3_quant  RA_ST7_quant\n",
            "PsA_ST2_quant\tPsA_ST6_quant  RA_ST10_quant  RA_ST4_quant  RA_ST8_quant\n",
            "PsA_ST3_quant\tPsA_ST7_quant  RA_ST1_quant   RA_ST5_quant  RA_ST9_quant\n"
          ]
        }
      ]
    },
    {
      "cell_type": "code",
      "source": [
        "run_in_crisprware('\\\n",
        "                  preprocess_annotation --gtf GRCh38.104.gtf \\\n",
        "                  --tpm_files PsA_ST2_quant/quant.sf \\\n",
        "                  --min 1 \\\n",
        "                  ')"
      ],
      "metadata": {
        "colab": {
          "base_uri": "https://localhost:8080/"
        },
        "id": "R09HLVTdJC-W",
        "outputId": "956c4bc9-4f3f-4acd-c0fd-f470be2d6a93"
      },
      "execution_count": 9,
      "outputs": [
        {
          "output_type": "stream",
          "name": "stdout",
          "text": [
            "\n",
            "\n",
            "\tProcessing isoform quantification files\n",
            "\n",
            "\tRemoving transcripts below threshold\n",
            "\n",
            "\tInferring file type from header line\n",
            "\n",
            "\t\tPsA_ST2_quant/quant.sf is a Salmon file\n",
            "\n",
            "\tInitial unique transcripts:\t\t\t187432\n",
            "\tTranscripts after filtering by expression:\t38451\n",
            "\n",
            "\tGenerating transcript-gene relationships\n",
            "\n",
            "\tSaving transcript-gene relationships to:\t/content/crisprware/salmon/GRCh38.104/tmp/tx2gene.tsv\n",
            "\n",
            "\tWarning: Transcripts not found in GTF/GFF:\n",
            "\n",
            "\tENST00000634176.1\n",
            "\tENST00000634111.1\n",
            "\tENST00000610439.4\n",
            "\tENST00000632021.1\n",
            "\tENST00000633283.1\n",
            "\tENST00000631392.1\n",
            "\tENST00000633575.1\n",
            "\tENST00000633328.1\n",
            "\tENST00000631882.1\n",
            "\tENST00000631559.1\n",
            "\t...\n",
            "\tand 38441 more\n",
            "\n",
            "\tGENE LEVEL FILTERING OF TOP TRANSCRIPTS WILL BE IGNORED\n",
            "\tCHECK THAT THE SAME ANNOTATION WAS USED FOR QUANTIFICATION AND CURRENT PROCESSING\n",
            "\tCHECK THAT THE FIRST COLUMN OF THE TPM QUANTIFICATION FILES CONTAINS ONLY THE TRANSCRIPT ID\n",
            "\n",
            "\tSaving quantification file to:\t\t/content/crisprware/salmon/GRCh38.104/tmp/filtered_GRCh38.104.tsv\n",
            "\tSaving transcript filtered GTF to:\t/content/crisprware/salmon/GRCh38.104/GRCh38.104_filtered.gtf\n",
            "\n",
            "\n"
          ]
        }
      ]
    },
    {
      "cell_type": "markdown",
      "source": [
        "Notice this warning output:  \n",
        "\n",
        "\tWarning: Transcripts not found in GTF/GFF:\n",
        "\n",
        "\tENST00000634176.1\n",
        "\tENST00000634111.1\n",
        "\tENST00000610439.4\n",
        "\tENST00000632021.1\n",
        "\tENST00000633283.1\n",
        "\tENST00000631392.1\n",
        "\tENST00000633575.1\n",
        "\tENST00000633328.1\n",
        "\tENST00000631882.1\n",
        "\tENST00000631559.1\n",
        "\t...\n",
        "\tand 38441 more\n",
        "\n",
        "\tGENE LEVEL FILTERING OF TOP TRANSCRIPTS WILL BE IGNORED\n",
        "\tCHECK THAT THE SAME ANNOTATION WAS USED FOR QUANTIFICATION AND CURRENT PROCESSING\n",
        "\tCHECK THAT THE FIRST COLUMN OF THE TPM QUANTIFICATION FILES CONTAINS ONLY THE TRANSCRIPT ID\n",
        "\n",
        "This indicates that the transcript ids are not matching between the Salmon quant.sf files and the GTF.  \n",
        "Let's investigate:  "
      ],
      "metadata": {
        "id": "TZeul99cEsTl"
      }
    },
    {
      "cell_type": "code",
      "source": [
        "!echo \"quant.sf transcript format:\"\n",
        "!grep \"ENST00000634176\" PsA_ST2_quant/quant.sf | cut -f1 && echo \"\"\n",
        "\n",
        "!echo \"Ensembl GTF transcript format:\"\n",
        "!grep \"ENST00000634176\" GRCh38.104.gtf | awk -F 'transcript_id \"' '{print $2}' | awk -F '\"' '{print $1}' | sort -u"
      ],
      "metadata": {
        "colab": {
          "base_uri": "https://localhost:8080/"
        },
        "id": "gEd0x6p6SDzm",
        "outputId": "bb155aa7-8d98-4199-b480-c8d51e896c75"
      },
      "execution_count": 10,
      "outputs": [
        {
          "output_type": "stream",
          "name": "stdout",
          "text": [
            "quant.sf transcript format:\n",
            "ENST00000634176.1\n",
            "\n",
            "Ensembl GTF transcript format:\n",
            "ENST00000634176\n"
          ]
        }
      ]
    },
    {
      "cell_type": "markdown",
      "source": [
        "Notice that the quant.sf file has a transcript version number \".1\" while the GTF does not. We can account for this in the processing step by passing the flag `--strip_tx_id`, which will resolve the warning."
      ],
      "metadata": {
        "id": "xx8CMj_dGvRH"
      }
    },
    {
      "cell_type": "code",
      "source": [
        "run_in_crisprware('\\\n",
        "                  preprocess_annotation --gtf GRCh38.104.gtf \\\n",
        "                  --tpm_files PsA_ST2_quant/quant.sf \\\n",
        "                  --min 1 \\\n",
        "                  --strip_tx_id \\\n",
        "                  ')"
      ],
      "metadata": {
        "colab": {
          "base_uri": "https://localhost:8080/"
        },
        "id": "VUPxcLMwFKIW",
        "outputId": "7ebc7355-fc40-471f-a469-b1e80ccd9605"
      },
      "execution_count": 11,
      "outputs": [
        {
          "output_type": "stream",
          "name": "stdout",
          "text": [
            "\n",
            "\n",
            "\tProcessing isoform quantification files\n",
            "\n",
            "\tRemoving transcripts below threshold\n",
            "\n",
            "\tInferring file type from header line\n",
            "\n",
            "\t\tPsA_ST2_quant/quant.sf is a Salmon file\n",
            "\n",
            "\tInitial unique transcripts:\t\t\t187432\n",
            "\tUnique transcripts after ID stripping:\t\t187432\n",
            "\tTranscripts after filtering by expression:\t38451\n",
            "\n",
            "\tGenerating transcript-gene relationships\n",
            "\n",
            "\tSaving transcript-gene relationships to:\t/content/crisprware/salmon/GRCh38.104/tmp/tx2gene.tsv\n",
            "\tFinal unique genes:\t\t13811\n",
            "\tFinal unique transcripts:\t38451\n",
            "\tSaving quantification file to:\t\t/content/crisprware/salmon/GRCh38.104/tmp/filtered_GRCh38.104.tsv\n",
            "\tSaving transcript filtered GTF to:\t/content/crisprware/salmon/GRCh38.104/GRCh38.104_filtered.gtf\n",
            "\n",
            "\n"
          ]
        }
      ]
    },
    {
      "cell_type": "markdown",
      "source": [
        "### FLAIR example\n",
        "The paper [*Robinson & Jagannatha et al.*](https://elifesciences.org/articles/69431) has associated FLAIR quantification and GTF file at [GEO accension GSE141750](https://https.ncbi.nlm.nih.gov/geo/query/acc.cgi?acc=GSE141750).\n",
        "\n",
        "We can pull that data:"
      ],
      "metadata": {
        "id": "9jZdKmW2xF90"
      }
    },
    {
      "cell_type": "code",
      "source": [
        "%cd /content/crisprware/\n",
        "!mkdir -p flair\n",
        "%cd flair\n",
        "!wget --show-progress -q -O GSE141750_Mse_nanopore.isoforms.gtf.gz https://ftp.ncbi.nlm.nih.gov/geo/series/GSE141nnn/GSE141750/suppl/GSE141750%5FMse%5Fnanopore.isoforms.gtf.gz\n",
        "!wget --show-progress -q -O GSE141750_counts_matrix.xlsx https://ftp.ncbi.nlm.nih.gov/geo/series/GSE141nnn/GSE141750/suppl/GSE141750%5Fcounts%5Fmatrix.xlsx\n",
        "!ls"
      ],
      "metadata": {
        "colab": {
          "base_uri": "https://localhost:8080/"
        },
        "id": "z0k1cSsHrdl1",
        "outputId": "ffd640e8-f938-4cb5-ced5-521c483bb724"
      },
      "execution_count": 12,
      "outputs": [
        {
          "output_type": "stream",
          "name": "stdout",
          "text": [
            "/content/crisprware\n",
            "/content/crisprware/flair\n",
            "GSE141750_Mse_nanop 100%[===================>]   5.36M  16.9MB/s    in 0.3s    \n",
            "GSE141750_counts_ma 100%[===================>]   2.03M  --.-KB/s    in 0.1s    \n",
            "GSE141750_counts_matrix.xlsx  GSE141750_Mse_nanopore.isoforms.gtf.gz\n"
          ]
        }
      ]
    },
    {
      "cell_type": "markdown",
      "source": [
        "The counts are saved in an \"xlsx\" (Microsoft Excel) format. We need to convert it to TSV format:"
      ],
      "metadata": {
        "id": "NZiEEejhyUt-"
      }
    },
    {
      "cell_type": "code",
      "source": [
        "from pandas import read_excel\n",
        "# to avoid printing a warning from xlsx reader\n",
        "from warnings import filterwarnings\n",
        "filterwarnings(\"ignore\", category=UserWarning, module='openpyxl')\n",
        "\n",
        "data_xlsx = read_excel('GSE141750_counts_matrix.xlsx', index_col=None).to_csv('GSE141750_counts_matrix.tsv', sep='\\t', encoding='utf-8',  index=False)"
      ],
      "metadata": {
        "id": "1USOyTM6x6kO"
      },
      "execution_count": 13,
      "outputs": []
    },
    {
      "cell_type": "markdown",
      "source": [
        "Let's look at the format, there are transcript ids in the first column followed by counts for three replicates of either untreated (ctl_batch) or LPS (lps_batch) treated samples."
      ],
      "metadata": {
        "id": "oRL5kbDZzjkH"
      }
    },
    {
      "cell_type": "code",
      "source": [
        "!head -6 GSE141750_counts_matrix.tsv"
      ],
      "metadata": {
        "colab": {
          "base_uri": "https://localhost:8080/"
        },
        "id": "I8gMedZ_yvaS",
        "outputId": "52cf80d2-3600-43f1-fb5d-beb6de55ac9f"
      },
      "execution_count": 14,
      "outputs": [
        {
          "output_type": "stream",
          "name": "stdout",
          "text": [
            "ids\tm1-lps.fastq_lps_batch1\tm2-lps.fastq_lps_batch1\tm3-lps.fastq_lps_batch1\tm1-ctl.fastq_ctl_batch1\tm2-ctl.fastq_ctl_batch1\tm3-ctl.fastq_ctl_batch1\n",
            "0000c6c2-62f7-48c8-821a-e2263cfb3fe2;16_chr11:70651000\t0\t0\t1\t0\t1\t1\n",
            "000145b6-0f98-46c3-b0e4-8880c8bd2a61;16_ENSMUSG00000024187.14\t4\t4\t4\t10\t6\t17\n",
            "0008107d-5030-496d-a9a4-b4829718e3f2;0_ENSMUSG00000031447.7\t7\t4\t3\t9\t5\t14\n",
            "000aab60-efca-43c7-86de-ba61147dde51;16_ENSMUSG00000019082.18\t1\t1\t4\t0\t0\t0\n",
            "00102dfe-3450-4599-bc4d-e0cdc42889ec;0_ENSMUSG00000063506.14\t4\t2\t3\t1\t0\t1\n"
          ]
        }
      ]
    },
    {
      "cell_type": "markdown",
      "source": [
        "We will take all samples and filter the GTF file to include only transcripts with at least 1 count in each sample"
      ],
      "metadata": {
        "id": "NjRAJEUH1798"
      }
    },
    {
      "cell_type": "code",
      "source": [
        "run_in_crisprware('\\\n",
        "                  preprocess_annotation --gtf GSE141750_Mse_nanopore.isoforms.gtf.gz \\\n",
        "                  --tpm_files GSE141750_counts_matrix.tsv \\\n",
        "                  --min 1 \\\n",
        "                  ')"
      ],
      "metadata": {
        "colab": {
          "base_uri": "https://localhost:8080/"
        },
        "id": "PiB74z5B4VVo",
        "outputId": "98496374-9e83-496c-8714-6476245e380b"
      },
      "execution_count": 15,
      "outputs": [
        {
          "output_type": "stream",
          "name": "stdout",
          "text": [
            "\n",
            "\n",
            "\tUnzipping GSE141750_Mse_nanopore.isoforms.gtf.gz\n",
            "\tUnzipped file saved as GSE141750_Mse_nanopore.isoforms.gtf\n",
            "\tProcessing isoform quantification files\n",
            "\n",
            "\tRemoving transcripts below threshold\n",
            "\n",
            "\tInferring file type from header line\n",
            "\n",
            "\t\tGSE141750_counts_matrix.tsv is a FLAIR file\n",
            "\n",
            "\tInitial unique transcripts:\t\t\t33244\n",
            "\tTranscripts after filtering by expression:\t11837\n",
            "\n",
            "\tGenerating transcript-gene relationships\n",
            "\n",
            "\tSaving transcript-gene relationships to:\t/content/crisprware/flair/GSE141750_Mse_nanopore.isoforms/tmp/tx2gene.tsv\n",
            "\tFinal unique genes:\t\t6689\n",
            "\tFinal unique transcripts:\t11837\n",
            "\tSaving quantification file to:\t\t/content/crisprware/flair/GSE141750_Mse_nanopore.isoforms/tmp/filtered_GSE141750_Mse_nanopore.isoforms.tsv\n",
            "\tSaving transcript filtered GTF to:\t/content/crisprware/flair/GSE141750_Mse_nanopore.isoforms/GSE141750_Mse_nanopore.isoforms_filtered.gtf\n",
            "\n",
            "\n",
            "\tRemoving file: GSE141750_Mse_nanopore.isoforms.gtf\n"
          ]
        }
      ]
    },
    {
      "cell_type": "markdown",
      "source": [
        "We can also do the same with only the LPS counts:"
      ],
      "metadata": {
        "id": "e0fjpZsoekc9"
      }
    },
    {
      "cell_type": "code",
      "source": [
        "!cut -f1,2,3,4 GSE141750_counts_matrix.tsv > LPS_GSE141750_counts_matrix.tsv\n",
        "run_in_crisprware('\\\n",
        "                  preprocess_annotation --gtf GSE141750_Mse_nanopore.isoforms.gtf.gz \\\n",
        "                  --tpm_files LPS_GSE141750_counts_matrix.tsv \\\n",
        "                  --min 1 \\\n",
        "                  ')"
      ],
      "metadata": {
        "colab": {
          "base_uri": "https://localhost:8080/"
        },
        "id": "TN4W1WBRen9F",
        "outputId": "f03d291d-2c98-4e0c-b70d-34264611f12c"
      },
      "execution_count": 16,
      "outputs": [
        {
          "output_type": "stream",
          "name": "stdout",
          "text": [
            "\n",
            "\n",
            "\tUnzipping GSE141750_Mse_nanopore.isoforms.gtf.gz\n",
            "\tUnzipped file saved as GSE141750_Mse_nanopore.isoforms.gtf\n",
            "\tProcessing isoform quantification files\n",
            "\n",
            "\tRemoving transcripts below threshold\n",
            "\n",
            "\tInferring file type from header line\n",
            "\n",
            "\t\tLPS_GSE141750_counts_matrix.tsv is a FLAIR file\n",
            "\n",
            "\tInitial unique transcripts:\t\t\t33244\n",
            "\tTranscripts after filtering by expression:\t17322\n",
            "\n",
            "\tGenerating transcript-gene relationships\n",
            "\n",
            "\tSaving transcript-gene relationships to:\t/content/crisprware/flair/GSE141750_Mse_nanopore.isoforms/tmp/tx2gene.tsv\n",
            "\tFinal unique genes:\t\t7565\n",
            "\tFinal unique transcripts:\t17322\n",
            "\tSaving quantification file to:\t\t/content/crisprware/flair/GSE141750_Mse_nanopore.isoforms/tmp/filtered_GSE141750_Mse_nanopore.isoforms.tsv\n",
            "\tSaving transcript filtered GTF to:\t/content/crisprware/flair/GSE141750_Mse_nanopore.isoforms/GSE141750_Mse_nanopore.isoforms_filtered.gtf\n",
            "\n",
            "\n",
            "\tRemoving file: GSE141750_Mse_nanopore.isoforms.gtf\n"
          ]
        }
      ]
    },
    {
      "cell_type": "markdown",
      "source": [
        "# RiboSeq\n",
        "\n",
        "\n",
        "---\n",
        "\n",
        "A number of tools exists for calling translated ORFs from RiboSeq. In order to find gRNAs against these putative coding regions we can convert output from these programs into a GTF with annotated coding sequence (CDS) entries and run the CRISPRware ipeline normally.\n",
        "\n",
        "Currently this works for [PRICE](https://github.com/erhard-lab/price) and [RiboTISH](https://github.com/zhpn1024/ribotish) output. For other RiboSeq ORF callers raise a [github issue](https://github.com/ericmalekos/crisprware/issues) and I will address it."
      ],
      "metadata": {
        "id": "tA3bDMBYITyk"
      }
    },
    {
      "cell_type": "code",
      "source": [
        "%cd /content/crisprware/\n",
        "!mkdir -p riboseq\n",
        "%cd riboseq"
      ],
      "metadata": {
        "colab": {
          "base_uri": "https://localhost:8080/"
        },
        "id": "cU3WbZhrHXgg",
        "outputId": "6bf3f560-9a87-441b-849d-09c3b347444d"
      },
      "execution_count": 17,
      "outputs": [
        {
          "output_type": "stream",
          "name": "stdout",
          "text": [
            "/content/crisprware\n",
            "/content/crisprware/riboseq\n"
          ]
        }
      ]
    },
    {
      "cell_type": "markdown",
      "source": [
        "### RiboTISH\n",
        "\n",
        "For ORFs called with RiboTISH set these options in the `ribotish predict` command: `--inframecount`, `--blocks`, `--aaseq` and provide the same GTF that was passed to ribotish. We have a test file with these columns and we will download the corresponding GTF from gencode."
      ],
      "metadata": {
        "id": "LyJ-6IWeJOGP"
      }
    },
    {
      "cell_type": "code",
      "source": [
        "!head -5 /content/crisprware/tests/test_data/ribotish/GSE208041_ATGORFs.tsv\n",
        "!wget --show-progress -q -O gencodev41.gtf.gz https://ftp.ebi.ac.uk/pub/databases/gencode/Gencode_human/release_41/gencode.v41.annotation.gtf.gz && gunzip -f gencodev41.gtf.gz"
      ],
      "metadata": {
        "colab": {
          "base_uri": "https://localhost:8080/"
        },
        "id": "i-HYNp6YIFsP",
        "outputId": "cf3db930-9ecc-492d-d9ce-df3339417baf"
      },
      "execution_count": 18,
      "outputs": [
        {
          "output_type": "stream",
          "name": "stdout",
          "text": [
            "Gid\tTid\tSymbol\tGeneType\tGenomePos\tStartCodon\tStart\tStop\tTisType\tTISGroup\tTISCounts\tTISPvalue\tRiboPvalue\tRiboPStatus\tFisherPvalue\tTISQvalue\tFrameQvalue\tFisherQvalue\tAALen\tSeq\tAASeq\tBlocks\tInFrameCount\n",
            "ENSG00000100985.7\tENST00000372330.3\tMMP9\tprotein_coding\tchr20:46008926-46016368:+\tATG\t19\t2143\tAnnotated\t0\t0\tNone\t5.01092337210136E-145\tN\tNone\tNone\t1.34551249593E-142\tNone\t707\tATGAGCCTCTGGCAGCCCCTGGTCCTGGTGCTCCTGGTGCTGGGCTGCTGCTTTGCTGCCCCCAGACAGCGCCAGTCCACCCTTGTGCTCTTCCCTGGAGACCTGAGAACCAATCTCACCGACAGGCAGCTGGCAGAGGAATACCTGTACCGCTATGGTTACACTCGGGTGGCAGAGATGCGTGGAGAGTCGAAATCTCTGGGGCCTGCGCTGCTGCTTCTCCAGAAGCAACTGTCCCTGCCCGAGACCGGTGAGCTGGATAGCGCCACGCTGAAGGCCATGCGAACCCCACGGTGCGGGGTCCCAGACCTGGGCAGATTCCAAACCTTTGAGGGCGACCTCAAGTGGCACCACCACAACATCACCTATTGGATCCAAAACTACTCGGAAGACTTGCCGCGGGCGGTGATTGACGACGCCTTTGCCCGCGCCTTCGCACTGTGGAGCGCGGTGACGCCGCTCACCTTCACTCGCGTGTACAGCCGGGACGCAGACATCGTCATCCAGTTTGGTGTCGCGGAGCACGGAGACGGGTATCCCTTCGACGGGAAGGACGGGCTCCTGGCACACGCCTTTCCTCCTGGCCCCGGCATTCAGGGAGACGCCCATTTCGACGATGACGAGTTGTGGTCCCTGGGCAAGGGCGTCGTGGTTCCAACTCGGTTTGGAAACGCAGATGGCGCGGCCTGCCACTTCCCCTTCATCTTCGAGGGCCGCTCCTACTCTGCCTGCACCACCGACGGTCGCTCCGACGGCTTGCCCTGGTGCAGTACCACGGCCAACTACGACACCGACGACCGGTTTGGCTTCTGCCCCAGCGAGAGACTCTACACCCAGGACGGCAATGCTGATGGGAAACCCTGCCAGTTTCCATTCATCTTCCAAGGCCAATCCTACTCCGCCTGCACCACGGACGGTCGCTCCGACGGCTACCGCTGGTGCGCCACCACCGCCAACTACGACCGGGACAAGCTCTTCGGCTTCTGCCCGACCCGAGCTGACTCGACGGTGATGGGGGGCAACTCGGCGGGGGAGCTGTGCGTCTTCCCCTTCACTTTCCTGGGTAAGGAGTACTCGACCTGTACCAGCGAGGGCCGCGGAGATGGGCGCCTCTGGTGCGCTACCACCTCGAACTTTGACAGCGACAAGAAGTGGGGCTTCTGCCCGGACCAAGGATACAGTTTGTTCCTCGTGGCGGCGCATGAGTTCGGCCACGCGCTGGGCTTAGATCATTCCTCAGTGCCGGAGGCGCTCATGTACCCTATGTACCGCTTCACTGAGGGGCCCCCCTTGCATAAGGACGACGTGAATGGCATCCGGCACCTCTATGGTCCTCGCCCTGAACCTGAGCCACGGCCTCCAACCACCACCACACCGCAGCCCACGGCTCCCCCGACGGTCTGCCCCACCGGACCCCCCACTGTCCACCCCTCAGAGCGCCCCACAGCTGGCCCCACAGGTCCCCCCTCAGCTGGCCCCACAGGTCCCCCCACTGCTGGCCCTTCTACGGCCACTACTGTGCCTTTGAGTCCGGTGGACGATGCCTGCAACGTGAACATCTTCGACGCCATCGCGGAGATTGGGAACCAGCTGTATTTGTTCAAGGATGGGAAGTACTGGCGATTCTCTGAGGGCAGGGGGAGCCGGCCGCAGGGCCCCTTCCTTATCGCCGACAAGTGGCCCGCGCTGCCCCGCAAGCTGGACTCGGTCTTTGAGGAGCGGCTCTCCAAGAAGCTTTTCTTCTTCTCTGGGCGCCAGGTGTGGGTGTACACAGGCGCGTCGGTGCTGGGCCCGAGGCGTCTGGACAAGCTGGGCCTGGGAGCCGACGTGGCCCAGGTGACCGGGGCCCTCCGGAGTGGCAGGGGGAAGATGCTGCTGTTCAGCGGGCGGCGCCTCTGGAGGTTCGACGTGAAGGCGCAGATGGTGGATCCCCGGAGCGCCAGCGAGGTGGACCGGATGTTCCCCGGGGTGCCTTTGGACACGCACGACGTCTTCCAGTACCGAGAGAAAGCCTATTTCTGCCAGGACCGCTTCTACTGGCGCGTGAGTTCCCGGAGTGAGTTGAACCAGGTGGACCAAGTGGGCTACGTGACCTATGACATCCTGCAGTGCCCTGAGGACTAG\tMSLWQPLVLVLLVLGCCFAAPRQRQSTLVLFPGDLRTNLTDRQLAEEYLYRYGYTRVAEMRGESKSLGPALLLLQKQLSLPETGELDSATLKAMRTPRCGVPDLGRFQTFEGDLKWHHHNITYWIQNYSEDLPRAVIDDAFARAFALWSAVTPLTFTRVYSRDADIVIQFGVAEHGDGYPFDGKDGLLAHAFPPGPGIQGDAHFDDDELWSLGKGVVVPTRFGNADGAACHFPFIFEGRSYSACTTDGRSDGLPWCSTTANYDTDDRFGFCPSERLYTQDGNADGKPCQFPFIFQGQSYSACTTDGRSDGYRWCATTANYDRDKLFGFCPTRADSTVMGGNSAGELCVFPFTFLGKEYSTCTSEGRGDGRLWCATTSNFDSDKKWGFCPDQGYSLFLVAAHEFGHALGLDHSSVPEALMYPMYRFTEGPPLHKDDVNGIRHLYGPRPEPEPRPPTTTTPQPTAPPTVCPTGPPTVHPSERPTAGPTGPPSAGPTGPPTAGPSTATTVPLSPVDDACNVNIFDAIAEIGNQLYLFKDGKYWRFSEGRGSRPQGPFLIADKWPALPRKLDSVFEERLSKKLFFFSGRQVWVYTGASVLGPRRLDKLGLGADVAQVTGALRSGRGKMLLFSGRRLWRFDVKAQMVDPRSASEVDRMFPGVPLDTHDVFQYREKAYFCQDRFYWRVSSRSELNQVDQVGYVTYDILQCPED*\t46008926-46009064,46009865-46010098,46010482-46010631,46010921-46011050,46011142-46011316,46011573-46011747,46012136-46012313,46012426-46012582,46013254-46013534,46013656-46013796,46014123-46014274,46014370-46014474,46016249-46016368\t2901644\n",
            "ENSG00000160255.19\tENST00000397852.5\tITGB2\tprotein_coding\tchr21:44886367-44910782:-\tATG\t44\t2354\tAnnotated\t0\t0\tNone\t7.33211236139701E-155\tN\tNone\tNone\t2.2814114847E-152\tNone\t769\tATGCTGGGCCTGCGCCCCCCACTGCTCGCCCTGGTGGGGCTGCTCTCCCTCGGGTGCGTCCTCTCTCAGGAGTGCACGAAGTTCAAGGTCAGCAGCTGCCGGGAATGCATCGAGTCGGGGCCCGGCTGCACCTGGTGCCAGAAGCTGAACTTCACAGGGCCGGGGGATCCTGACTCCATTCGCTGCGACACCCGGCCACAGCTGCTCATGAGGGGCTGTGCGGCTGACGACATCATGGACCCCACAAGCCTCGCTGAAACCCAGGAAGACCACAATGGGGGCCAGAAGCAGCTGTCCCCACAAAAAGTGACGCTTTACCTGCGACCAGGCCAGGCAGCAGCGTTCAACGTGACCTTCCGGCGGGCCAAGGGCTACCCCATCGACCTGTACTATCTGATGGACCTCTCCTACTCCATGCTTGATGACCTCAGGAATGTCAAGAAGCTAGGTGGCGACCTGCTCCGGGCCCTCAACGAGATCACCGAGTCCGGCCGCATTGGCTTCGGGTCCTTCGTGGACAAGACCGTGCTGCCGTTCGTGAACACGCACCCTGATAAGCTGCGAAACCCATGCCCCAACAAGGAGAAAGAGTGCCAGCCCCCGTTTGCCTTCAGGCACGTGCTGAAGCTGACCAACAACTCCAACCAGTTTCAGACCGAGGTCGGGAAGCAGCTGATTTCCGGAAACCTGGATGCACCCGAGGGTGGGCTGGACGCCATGATGCAGGTCGCCGCCTGCCCGGAGGAAATCGGCTGGCGCAACGTCACGCGGCTGCTGGTGTTTGCCACTGATGACGGCTTCCATTTCGCGGGCGACGGGAAGCTGGGCGCCATCCTGACCCCCAACGACGGCCGCTGTCACCTGGAGGACAACTTGTACAAGAGGAGCAACGAATTCGACTACCCATCGGTGGGCCAGCTGGCGCACAAGCTGGCTGAAAACAACATCCAGCCCATCTTCGCGGTGACCAGTAGGATGGTGAAGACCTACGAGAAACTCACCGAGATCATCCCCAAGTCAGCCGTGGGGGAGCTGTCTGAGGACTCCAGCAATGTGGTCCATCTCATTAAGAATGCTTACAATAAACTCTCCTCCAGGGTCTTCCTGGATCACAACGCCCTCCCCGACACCCTGAAAGTCACCTACGACTCCTTCTGCAGCAATGGAGTGACGCACAGGAACCAGCCCAGAGGTGACTGTGATGGCGTGCAGATCAATGTCCCGATCACCTTCCAGGTGAAGGTCACGGCCACAGAGTGCATCCAGGAGCAGTCGTTTGTCATCCGGGCGCTGGGCTTCACGGACATAGTGACCGTGCAGGTTCTTCCCCAGTGTGAGTGCCGGTGCCGGGACCAGAGCAGAGACCGCAGCCTCTGCCATGGCAAGGGCTTCTTGGAGTGCGGCATCTGCAGGTGTGACACTGGCTACATTGGGAAAAACTGTGAGTGCCAGACACAGGGCCGGAGCAGCCAGGAGCTGGAAGGAAGCTGCCGGAAGGACAACAACTCCATCATCTGCTCAGGGCTGGGGGACTGTGTCTGCGGGCAGTGCCTGTGCCACACCAGCGACGTCCCCGGCAAGCTGATATACGGGCAGTACTGCGAGTGTGACACCATCAACTGTGAGCGCTACAACGGCCAGGTCTGCGGCGGCCCGGGGAGGGGGCTCTGCTTCTGCGGGAAGTGCCGCTGCCACCCGGGCTTTGAGGGCTCAGCGTGCCAGTGCGAGAGGACCACTGAGGGCTGCCTGAACCCGCGGCGTGTTGAGTGTAGTGGTCGTGGCCGGTGCCGCTGCAACGTATGCGAGTGCCATTCAGGCTACCAGCTGCCTCTGTGCCAGGAGTGCCCCGGCTGCCCCTCACCCTGTGGCAAGTACATCTCCTGCGCCGAGTGCCTGAAGTTCGAAAAGGGCCCCTTTGGGAAGAACTGCAGCGCGGCGTGTCCGGGCCTGCAGCTGTCGAACAACCCCGTGAAGGGCAGGACCTGCAAGGAGAGGGACTCAGAGGGCTGCTGGGTGGCCTACACGCTGGAGCAGCAGGACGGGATGGACCGCTACCTCATCTATGTGGATGAGAGCCGAGAGTGTGTGGCAGGCCCCAACATCGCCGCCATCGTCGGGGGCACCGTGGCAGGCATCGTGCTGATCGGCATTCTCCTGCTGGTCATCTGGAAGGCTCTGATCCACCTGAGCGACCTCCGGGAGTACAGGCGCTTTGAGAAGGAGAAGCTCAAGTCCCAGTGGAACAATGATAATCCCCTTTTCAAGAGCGCCACCACGACGGTCATGAACCCCAAGTTTGCTGAGAGTTAG\tMLGLRPPLLALVGLLSLGCVLSQECTKFKVSSCRECIESGPGCTWCQKLNFTGPGDPDSIRCDTRPQLLMRGCAADDIMDPTSLAETQEDHNGGQKQLSPQKVTLYLRPGQAAAFNVTFRRAKGYPIDLYYLMDLSYSMLDDLRNVKKLGGDLLRALNEITESGRIGFGSFVDKTVLPFVNTHPDKLRNPCPNKEKECQPPFAFRHVLKLTNNSNQFQTEVGKQLISGNLDAPEGGLDAMMQVAACPEEIGWRNVTRLLVFATDDGFHFAGDGKLGAILTPNDGRCHLEDNLYKRSNEFDYPSVGQLAHKLAENNIQPIFAVTSRMVKTYEKLTEIIPKSAVGELSEDSSNVVHLIKNAYNKLSSRVFLDHNALPDTLKVTYDSFCSNGVTHRNQPRGDCDGVQINVPITFQVKVTATECIQEQSFVIRALGFTDIVTVQVLPQCECRCRDQSRDRSLCHGKGFLECGICRCDTGYIGKNCECQTQGRSSQELEGSCRKDNNSIICSGLGDCVCGQCLCHTSDVPGKLIYGQYCECDTINCERYNGQVCGGPGRGLCFCGKCRCHPGFEGSACQCERTTEGCLNPRRVECSGRGRCRCNVCECHSGYQLPLCQECPGCPSPCGKYISCAECLKFEKGPFGKNCSAACPGLQLSNNPVKGRTCKERDSEGCWVAYTLEQQDGMDRYLIYVDESRECVAGPNIAAIVGGTVAGIVLIGILLLVIWKALIHLSDLREYRRFEKEKLKSQWNNDNPLFKSATTTVMNPKFAES*\t44886367-44886430,44886735-44886902,44888692-44888895,44889275-44889495,44889977-44890222,44891808-44891996,44893403-44893544,44894970-44895060,44899066-44899162,44900319-44900475,44901491-44901733,44903364-44903535,44906914-44907095,44910283-44910372,44910724-44910782\t1553080\n",
            "ENSG00000075624.17\tENST00000674681.1\tACTB\tprotein_coding\tchr7:5527747-5529657:-\tATG\t87\t1215\tAnnotated\t0\t0\tNone\t7.28253698437068E-09\tN\tNone\tNone\t1.0343764854E-07\tNone\t375\tATGGATGATGATATCGCCGCGCTCGTCGTCGACAACGGCTCCGGCATGTGCAAGGCCGGCTTCGCGGGCGACGATGCCCCCCGGGCCGTCTTCCCCTCCATCGTGGGGCGCCCCAGGCACCAGGGCGTGATGGTGGGCATGGGTCAGAAGGATTCCTATGTGGGCGACGAGGCCCAGAGCAAGAGAGGCATCCTCACCCTGAAGTACCCCATCGAGCACGGCATCGTCACCAACTGGGACGACATGGAGAAAATCTGGCACCACACCTTCTACAATGAGCTGCGTGTGGCTCCCGAGGAGCACCCCGTGCTGCTGACCGAGGCCCCCCTGAACCCCAAGGCCAACCGCGAGAAGATGACCCAGATCATGTTTGAGACCTTCAACACCCCAGCCATGTACGTTGCTATCCAGGCTGTGCTATCCCTGTACGCCTCTGGCCGTACCACTGGCATCGTGATGGACTCCGGTGACGGGGTCACCCACACTGTGCCCATCTACGAGGGGTATGCCCTCCCCCATGCCATCCTGCGTCTGGACCTGGCTGGCCGGGACCTGACTGACTACCTCATGAAGATCCTCACCGAGCGCGGCTACAGCTTCACCACCACGGCCGAGCGGGAAATCGTGCGTGACATTAAGGAGAAGCTGTGCTACGTCGCCCTGGACTTCGAGCAAGAGATGGCCACGGCTGCTTCCAGCTCCTCCCTGGAGAAGAGCTACGAGCTGCCTGACGGCCAGGTCATCACCATTGGCAATGAGCGGTTCCGCTGCCCTGAGGCACTCTTCCAGCCTTCCTTCCTGGGCATGGAGTCCTGTGGCATCCACGAAACTACCTTCAACTCCATCATGAAGTGTGACGTGGACATCCGCAAAGACCTGTACGCCAACACAGTGCTGTCTGGCGGCACCACCATGTACCCTGGCATTGCCGACAGGATGCAGAAGGAGATCACTGCCCTGGCACCCAGCACAATGAAGATCAAGATCATTGCTCCTCCTGAGCGCAAGTACTCCGTGTGGATCGGCGGCTCCATCCTGGCCTCGCTGTCCACCTTCCAGCAGATGTGGATCAGCAAGCAGGAGTATGACGAGTCCGGCCCCTCCATCGTCCACCGCAAATGCTTCTAG\tMDDDIAALVVDNGSGMCKAGFAGDDAPRAVFPSIVGRPRHQGVMVGMGQKDSYVGDEAQSKRGILTLKYPIEHGIVTNWDDMEKIWHHTFYNELRVAPEEHPVLLTEAPLNPKANREKMTQIMFETFNTPAMYVAIQAVLSLYASGRTTGIVMDSGDGVTHTVPIYEGYALPHAILRLDLAGRDLTDYLMKILTERGYSFTTTAEREIVRDIKEKLCYVALDFEQEMATAASSSSLEKSYELPDGQVITIGNERFRCPEALFQPSFLGMESCGIHETTFNSIMKCDVDIRKDLYANTVLSGGTTMYPGIADRMQKEITALAPSTMKIKIIAPPERKYSVWIGGSILASLSTFQQMWISKQEYDESGPSIVHRKCF*\t5527747-5527891,5528003-5528185,5528280-5528719,5529160-5529400,5529534-5529657\t1112097\n",
            "ENSG00000075624.17\tENST00000675515.1\tACTB\tprotein_coding\tchr7:5527747-5563836:-\tATG\t66\t1323\tExtended\t0\t0\tNone\t1.6042666215198E-07\tN\tNone\tNone\t2.12204010631E-06\tNone\t418\tATGTGTCTGGCTGCCCAAAGGGCCCCATCACCGGACGAGTCCAGCCCCACCCAGCTTGGCGCGGCAGGCGCGTCGGTTGCGCCACCTGGCGGTCGCCTGGAACCCCACAACCCAACCAACCAGCTCACCATGGATGATGATATCGCCGCGCTCGTCGTCGACAACGGCTCCGGCATGTGCAAGGCCGGCTTCGCGGGCGACGATGCCCCCCGGGCCGTCTTCCCCTCCATCGTGGGGCGCCCCAGGCACCAGGGCGTGATGGTGGGCATGGGTCAGAAGGATTCCTATGTGGGCGACGAGGCCCAGAGCAAGAGAGGCATCCTCACCCTGAAGTACCCCATCGAGCACGGCATCGTCACCAACTGGGACGACATGGAGAAAATCTGGCACCACACCTTCTACAATGAGCTGCGTGTGGCTCCCGAGGAGCACCCCGTGCTGCTGACCGAGGCCCCCCTGAACCCCAAGGCCAACCGCGAGAAGATGACCCAGATCATGTTTGAGACCTTCAACACCCCAGCCATGTACGTTGCTATCCAGGCTGTGCTATCCCTGTACGCCTCTGGCCGTACCACTGGCATCGTGATGGACTCCGGTGACGGGGTCACCCACACTGTGCCCATCTACGAGGGGTATGCCCTCCCCCATGCCATCCTGCGTCTGGACCTGGCTGGCCGGGACCTGACTGACTACCTCATGAAGATCCTCACCGAGCGCGGCTACAGCTTCACCACCACGGCCGAGCGGGAAATCGTGCGTGACATTAAGGAGAAGCTGTGCTACGTCGCCCTGGACTTCGAGCAAGAGATGGCCACGGCTGCTTCCAGCTCCTCCCTGGAGAAGAGCTACGAGCTGCCTGACGGCCAGGTCATCACCATTGGCAATGAGCGGTTCCGCTGCCCTGAGGCACTCTTCCAGCCTTCCTTCCTGGGCATGGAGTCCTGTGGCATCCACGAAACTACCTTCAACTCCATCATGAAGTGTGACGTGGACATCCGCAAAGACCTGTACGCCAACACAGTGCTGTCTGGCGGCACCACCATGTACCCTGGCATTGCCGACAGGATGCAGAAGGAGATCACTGCCCTGGCACCCAGCACAATGAAGATCAAGATCATTGCTCCTCCTGAGCGCAAGTACTCCGTGTGGATCGGCGGCTCCATCCTGGCCTCGCTGTCCACCTTCCAGCAGATGTGGATCAGCAAGCAGGAGTATGACGAGTCCGGCCCCTCCATCGTCCACCGCAAATGCTTCTAG\tMCLAAQRAPSPDESSPTQLGAAGASVAPPGGRLEPHNPTNQLTMDDDIAALVVDNGSGMCKAGFAGDDAPRAVFPSIVGRPRHQGVMVGMGQKDSYVGDEAQSKRGILTLKYPIEHGIVTNWDDMEKIWHHTFYNELRVAPEEHPVLLTEAPLNPKANREKMTQIMFETFNTPAMYVAIQAVLSLYASGRTTGIVMDSGDGVTHTVPIYEGYALPHAILRLDLAGRDLTDYLMKILTERGYSFTTTAEREIVRDIKEKLCYVALDFEQEMATAASSSSLEKSYELPDGQVITIGNERFRCPEALFQPSFLGMESCGIHETTFNSIMKCDVDIRKDLYANTVLSGGTTMYPGIADRMQKEITALAPSTMKIKIIAPPERKYSVWIGGSILASLSTFQQMWISKQEYDESGPSIVHRKCF*\t5527747-5527891,5528003-5528185,5528280-5528719,5529160-5529400,5529534-5529663,5563713-5563836\t1111906\n",
            "gencodev41.gtf.gz   100%[===================>]  46.77M  17.2MB/s    in 2.7s    \n"
          ]
        }
      ]
    },
    {
      "cell_type": "markdown",
      "source": [
        "Only a single ORF species can be selected at a time, e.g. 5'UTR, 3'UTR, Novel, etc. using the required `--tisype` specifier. Note that TIS types which include a single quote must passed in double quotes and escaped, e.g. 3'UTR -> \"3\\\\'UTR\""
      ],
      "metadata": {
        "id": "MEp1s9USKP_W"
      }
    },
    {
      "cell_type": "code",
      "source": [
        "run_in_crisprware('gtf_from_ribotish.py \\\n",
        "                  --input_gtf ./gencodev41.gtf \\\n",
        "                  --ribotish /content/crisprware/tests/test_data/ribotish/GSE208041_ATGORFs.tsv \\\n",
        "                  --select_based_on AALen \\\n",
        "                  --min_aalen 100 \\\n",
        "                  --tistype \"3\\'UTR\" \\\n",
        "                  --output_gtf ./uORF_100AA.gtf')"
      ],
      "metadata": {
        "id": "I5mHmWlyIXVq",
        "colab": {
          "base_uri": "https://localhost:8080/"
        },
        "outputId": "4a7da869-7a9c-423c-c95d-a5d55ae203ca"
      },
      "execution_count": 19,
      "outputs": [
        {
          "output_type": "stream",
          "name": "stdout",
          "text": [
            "Sorted GTF file has been written to ./uORF_100AA.gtf\n"
          ]
        }
      ]
    },
    {
      "cell_type": "code",
      "source": [
        "!head -10 ./uORF_100AA.gtf"
      ],
      "metadata": {
        "colab": {
          "base_uri": "https://localhost:8080/"
        },
        "id": "oknTxX68HIy1",
        "outputId": "2bb43e8b-d0fd-46cc-e90f-2165fa601192"
      },
      "execution_count": 20,
      "outputs": [
        {
          "output_type": "stream",
          "name": "stdout",
          "text": [
            "chr1\tHAVANA\texon\t1253909\t1255487\t.\t-\t.\tgene_id \"ENSG00000160087.21\"; transcript_id \"ENST00000450390.6\"; gene_type \"protein_coding\"; gene_name \"UBE2J2\"; transcript_type \"nonsense_mediated_decay\"; transcript_name \"UBE2J2-208\"; exon_number 8; exon_id \"ENSE00001675740.1\"; level 2; protein_id \"ENSP00000407565.2\"; transcript_support_level \"5\"; hgnc_id \"HGNC:19268\"; havana_gene \"OTTHUMG00000001911.9\"; havana_transcript \"OTTHUMT00000005431.3\";\tENST00000450390.6\n",
            "chr1\tHAVANA\ttranscript\t1253909\t1273853\t.\t-\t.\tgene_id \"ENSG00000160087.21\"; transcript_id \"ENST00000450390.6\"; gene_type \"protein_coding\"; gene_name \"UBE2J2\"; transcript_type \"nonsense_mediated_decay\"; transcript_name \"UBE2J2-208\"; level 2; protein_id \"ENSP00000407565.2\"; transcript_support_level \"5\"; hgnc_id \"HGNC:19268\"; havana_gene \"OTTHUMG00000001911.9\"; havana_transcript \"OTTHUMT00000005431.3\";\tENST00000450390.6\n",
            "chr1\tHAVANA\texon\t1253912\t1255487\t.\t-\t.\tgene_id \"ENSG00000160087.21\"; transcript_id \"ENST00000349431.11\"; gene_type \"protein_coding\"; gene_name \"UBE2J2\"; transcript_type \"protein_coding\"; transcript_name \"UBE2J2-202\"; exon_number 7; exon_id \"ENSE00001936789.2\"; level 2; protein_id \"ENSP00000305826.7\"; transcript_support_level \"1\"; hgnc_id \"HGNC:19268\"; tag \"basic\"; tag \"Ensembl_canonical\"; tag \"MANE_Select\"; tag \"appris_principal_1\"; tag \"CCDS\"; ccdsid \"CCDS14.1\"; havana_gene \"OTTHUMG00000001911.9\"; havana_transcript \"OTTHUMT00000005430.1\";\tENST00000349431.11\n",
            "chr1\tHAVANA\ttranscript\t1253912\t1273854\t.\t-\t.\tgene_id \"ENSG00000160087.21\"; transcript_id \"ENST00000349431.11\"; gene_type \"protein_coding\"; gene_name \"UBE2J2\"; transcript_type \"protein_coding\"; transcript_name \"UBE2J2-202\"; level 2; protein_id \"ENSP00000305826.7\"; transcript_support_level \"1\"; hgnc_id \"HGNC:19268\"; tag \"basic\"; tag \"Ensembl_canonical\"; tag \"MANE_Select\"; tag \"appris_principal_1\"; tag \"CCDS\"; ccdsid \"CCDS14.1\"; havana_gene \"OTTHUMG00000001911.9\"; havana_transcript \"OTTHUMT00000005430.1\";\tENST00000349431.11\n",
            "chr1\tENSEMBL\texon\t1253914\t1255487\t.\t-\t.\tgene_id \"ENSG00000160087.21\"; transcript_id \"ENST00000347370.6\"; gene_type \"protein_coding\"; gene_name \"UBE2J2\"; transcript_type \"protein_coding\"; transcript_name \"UBE2J2-201\"; exon_number 7; exon_id \"ENSE00001066486.1\"; level 3; protein_id \"ENSP00000344857.2\"; transcript_support_level \"3\"; hgnc_id \"HGNC:19268\"; tag \"basic\"; tag \"CCDS\"; ccdsid \"CCDS16.1\"; havana_gene \"OTTHUMG00000001911.9\";\tENST00000347370.6\n",
            "chr1\tENSEMBL\ttranscript\t1253914\t1273854\t.\t-\t.\tgene_id \"ENSG00000160087.21\"; transcript_id \"ENST00000347370.6\"; gene_type \"protein_coding\"; gene_name \"UBE2J2\"; transcript_type \"protein_coding\"; transcript_name \"UBE2J2-201\"; level 3; protein_id \"ENSP00000344857.2\"; transcript_support_level \"3\"; hgnc_id \"HGNC:19268\"; tag \"basic\"; tag \"CCDS\"; ccdsid \"CCDS16.1\"; havana_gene \"OTTHUMG00000001911.9\";\tENST00000347370.6\n",
            "chr1\tribotish\tCDS\t1254549\t1254896\t.\t-\t0\tgene_id \"ENSG00000160087.21\"; transcript_id \"ENST00000450390.6\"; gene_name \"UBE2J2\"; gene_type \"protein_coding\";\tnan\n",
            "chr1\tribotish\tCDS\t1254549\t1254896\t.\t-\t0\tgene_id \"ENSG00000160087.21\"; transcript_id \"ENST00000349431.11\"; gene_name \"UBE2J2\"; gene_type \"protein_coding\";\tnan\n",
            "chr1\tribotish\tCDS\t1254549\t1254896\t.\t-\t0\tgene_id \"ENSG00000160087.21\"; transcript_id \"ENST00000347370.6\"; gene_name \"UBE2J2\"; gene_type \"protein_coding\";\tnan\n",
            "chr1\tHAVANA\texon\t1256045\t1256125\t.\t-\t.\tgene_id \"ENSG00000160087.21\"; transcript_id \"ENST00000450390.6\"; gene_type \"protein_coding\"; gene_name \"UBE2J2\"; transcript_type \"nonsense_mediated_decay\"; transcript_name \"UBE2J2-208\"; exon_number 7; exon_id \"ENSE00003466253.1\"; level 2; protein_id \"ENSP00000407565.2\"; transcript_support_level \"5\"; hgnc_id \"HGNC:19268\"; havana_gene \"OTTHUMG00000001911.9\"; havana_transcript \"OTTHUMT00000005431.3\";\tENST00000450390.6\n"
          ]
        }
      ]
    },
    {
      "cell_type": "markdown",
      "source": [
        "### PRICE\n",
        "\n",
        "For ORFs called with PRICE we use default settings and use the orfs.tsv output as input to this script. We have a test file with these columns and we will download the corresponding GTF from gencode, this time in mouse."
      ],
      "metadata": {
        "id": "wGOAe37aKrCm"
      }
    },
    {
      "cell_type": "code",
      "source": [
        "!head -5 /content/crisprware/tests/test_data/price/GSE22004_ORFS.tsv\n",
        "!wget --show-progress -q -O gencodevM31.gtf.gz https://ftp.ebi.ac.uk/pub/databases/gencode/Gencode_mouse/release_M31/gencode.vM31.annotation.gtf.gz && gunzip -f gencodevM31.gtf.gz"
      ],
      "metadata": {
        "colab": {
          "base_uri": "https://localhost:8080/"
        },
        "id": "7K4n6sm_lxD-",
        "outputId": "c1dd2ee7-d6e5-46a7-9e68-af295c7128a2"
      },
      "execution_count": 21,
      "outputs": [
        {
          "output_type": "stream",
          "name": "stdout",
          "text": [
            "Gene\tId\tLocation\tCandidate Location\tCodon\tType\tStart\tRange\tp value\t./GSE22004/BMDN_WT_merged\tTotal\n",
            "ENSMUSG00000033793.13\tENSMUST00000044369.13_uORF_1\t1+:5153417-5153501|5154639-5154666\t1+:5153417-5153501|5154639-5154666\tCTG\tuORF\t0.61\t0.49\t0.0053767\t31.5\t31.5\n",
            "ENSMUSG00000033793.13\tENSMUST00000044369.13_uORF_3\t1+:5153499-5153501|5154639-5154673\t1+:5153499-5153501|5154639-5154673\tAGG\tuORF\t0.10\t0.26\t0.74776\t9.0\t9.0\n",
            "ENSMUSG00000033793.13\tENSMUST00000194676.6_uORF_4\t1+:5154643-5154673\t1+:5154643-5154673\tGTG\tuORF\t0.23\t0.12\t0.36007\t7.3\t7.3\n",
            "ENSMUSG00000033793.13\tENSMUST00000044369.13_Trunc_0\t1+:5159280-5159334|5163585-5163675|5165837-5165951|5168251-5168356|5171292-5171346|5187612-5187710|5194499-5194692|5203306-5203485|5206034-5206160|5213972-5214074|5220170-5220284|5232327-5232388\t1+:5154682-5154786|5159231-5159334|5163585-5163675|5165837-5165951|5168251-5168356|5171292-5171346|5187612-5187710|5194499-5194692|5203306-5203485|5206034-5206160|5213972-5214074|5220170-5220284|5232327-5232388\tATG\tTrunc\t0.16\t0.29\t1.9627e-14\t801.7\t801.7\n",
            "gencodevM31.gtf.gz  100%[===================>]  27.95M  21.6MB/s    in 1.3s    \n"
          ]
        }
      ]
    },
    {
      "cell_type": "code",
      "source": [
        "run_in_crisprware('gtf_from_price.py \\\n",
        "                  -i /content/crisprware/tests/test_data/price/GSE22004_ORFS.tsv \\\n",
        "                  -g ./gencodevM31.gtf \\\n",
        "                  --tis_type uORF \\\n",
        "                  --start_codon CTG \\\n",
        "                  --min_p_value 0.001 \\\n",
        "                  -o price_CTG_uORFs.gtf')"
      ],
      "metadata": {
        "id": "aCHtZow0MGl8"
      },
      "execution_count": 23,
      "outputs": []
    },
    {
      "cell_type": "code",
      "source": [
        "!tail -6 price_CTG_uORFs.gtf"
      ],
      "metadata": {
        "colab": {
          "base_uri": "https://localhost:8080/"
        },
        "id": "NjAo1IWlriiK",
        "outputId": "51886c8f-ebe7-4749-f890-7018d5b5eded"
      },
      "execution_count": 24,
      "outputs": [
        {
          "output_type": "stream",
          "name": "stdout",
          "text": [
            "chrX\tHAVANA\ttranscript\t165240249\t165262863\t.\t-\t.\tgene_id \"ENSMUSG00000079316.11\"; transcript_id \"ENSMUST00000112091.9_uORF_1\";\n",
            "chrX\tHAVANA\texon\t165262536\t165262863\t.\t-\t.\tgene_id \"ENSMUSG00000079316.11\"; transcript_id \"ENSMUST00000112091.9_uORF_1\";\n",
            "chrX\tHAVANA\texon\t165245311\t165245338\t.\t-\t.\tgene_id \"ENSMUSG00000079316.11\"; transcript_id \"ENSMUST00000112091.9_uORF_1\";\n",
            "chrX\tHAVANA\texon\t165240249\t165241339\t.\t-\t.\tgene_id \"ENSMUSG00000079316.11\"; transcript_id \"ENSMUST00000112091.9_uORF_1\";\n",
            "chrX\tPrice\tCDS\t165245335\t165245338\t.\t-\t0\tgene_id \"ENSMUSG00000079316.11\"; transcript_id \"ENSMUST00000112091.9_uORF_1\";\n",
            "chrX\tPrice\tCDS\t165262536\t165262612\t.\t-\t0\tgene_id \"ENSMUSG00000079316.11\"; transcript_id \"ENSMUST00000112091.9_uORF_1\";\n"
          ]
        }
      ]
    },
    {
      "cell_type": "markdown",
      "source": [
        "# ChIP/ATAC/etc.\n",
        "\n",
        "Chromatin accessibility is a strong determinant of CRISPR activity and we can use widely available data to rationally target sites of interest. Let's use ATAC-Seq in K562 along with our RNA-Seq from earlier to target open chromatin near transcript start sites of expressed genes. We will use files from [Encode project ENCSR483RKN](https://www.encodeproject.org/experiments/ENCSR483RKN/)"
      ],
      "metadata": {
        "id": "lPs6S9npt5TN"
      }
    },
    {
      "cell_type": "code",
      "source": [
        "%cd /content/crisprware/\n",
        "!mkdir -p K562_TSS\n",
        "%cd K562_TSS"
      ],
      "metadata": {
        "colab": {
          "base_uri": "https://localhost:8080/"
        },
        "id": "Tg64CGBhyk7Q",
        "outputId": "71111621-7f6b-4ad8-fd0c-a93204f53eb6"
      },
      "execution_count": 25,
      "outputs": [
        {
          "output_type": "stream",
          "name": "stdout",
          "text": [
            "/content/crisprware\n",
            "/content/crisprware/K562_TSS\n"
          ]
        }
      ]
    },
    {
      "cell_type": "markdown",
      "source": [
        "## Bigwig signal file\n",
        "\n",
        "This workflow uses a Bigwig signal to determine areas of open chromatin. This has the benefit of not relying on assumptions that go into peak calling, instead looking for the windows of highest aggregate signal."
      ],
      "metadata": {
        "id": "RyhpC0I5Pewp"
      }
    },
    {
      "cell_type": "code",
      "source": [
        "!wget -q --show-progress https://www.encodeproject.org/files/ENCFF600FDO/@@download/ENCFF600FDO.bigWig\n",
        "!wget -q --show-progress https://hgdownload.soe.ucsc.edu/goldenPath/hg38/chromosomes/chr21.fa.gz && gunzip -f chr21.fa.gz"
      ],
      "metadata": {
        "colab": {
          "base_uri": "https://localhost:8080/"
        },
        "id": "SNwUb2ZVyW5f",
        "outputId": "e4f20d4d-3ff5-4269-e3dc-e804fdf885ca"
      },
      "execution_count": 26,
      "outputs": [
        {
          "output_type": "stream",
          "name": "stdout",
          "text": [
            "ENCFF600FDO.bigWig  100%[===================>] 824.18M  40.6MB/s    in 28s     \n",
            "chr21.fa.gz         100%[===================>]  12.12M  13.7MB/s    in 0.9s    \n"
          ]
        }
      ]
    },
    {
      "cell_type": "markdown",
      "source": [
        "With the signal file downloaded, let's use the RNA-Seq from above to find TSS of isoforms expressed at at least 10 TPM. We will start by generating a window of +/- 500 bp around each TSS. **This requires that you've run the Kallisto portion of the RNA-Seq section**\n"
      ],
      "metadata": {
        "id": "RaDv6xf_0Lzk"
      }
    },
    {
      "cell_type": "code",
      "source": [
        "run_in_crisprware('\\\n",
        "                  preprocess_annotation --tpm_files ../kallisto/*_cleaned.tsv \\\n",
        "                  --gtf ../kallisto/gencode.v29.gtf \\\n",
        "                  --min 10 \\\n",
        "                  --tss_window 500 500'\n",
        "                  )"
      ],
      "metadata": {
        "colab": {
          "base_uri": "https://localhost:8080/"
        },
        "id": "yOnyieAp0_Qm",
        "outputId": "2bfc6e6f-77c6-45bd-c18f-2fe029d6338b"
      },
      "execution_count": 27,
      "outputs": [
        {
          "output_type": "stream",
          "name": "stdout",
          "text": [
            "\n",
            "\n",
            "\tProcessing isoform quantification files\n",
            "\n",
            "\tRemoving transcripts below threshold\n",
            "\n",
            "\tInferring file type from header line\n",
            "\n",
            "\t\t../kallisto/K562_rep1_cleaned.tsv is a Kallisto file\n",
            "\n",
            "\tInitial unique transcripts:\t\t\t206694\n",
            "\tTranscripts after filtering by expression:\t8629\n",
            "\n",
            "\tGenerating transcript-gene relationships\n",
            "\n",
            "\tSaving transcript-gene relationships to:\t/content/crisprware/K562_TSS/gencode.v29/tmp/tx2gene.tsv\n",
            "\tFinal unique genes:\t\t5063\n",
            "\tFinal unique transcripts:\t8629\n",
            "\tSaving quantification file to:\t\t/content/crisprware/K562_TSS/gencode.v29/tmp/filtered_gencode.v29.tsv\n",
            "\tSaving transcript filtered GTF to:\t/content/crisprware/K562_TSS/gencode.v29/gencode.v29_filtered.gtf\n",
            "\n",
            "\tSaving TSS:\t/content/crisprware/K562_TSS/gencode.v29/TSS_filtered.bed\n",
            "\n",
            "\n"
          ]
        }
      ]
    },
    {
      "cell_type": "markdown",
      "source": [
        "Now we can use the `bigwig_to_signalwindow.py` script with TSS windows BED and Bigwig file to find the 250 bp window with the highest signal (i.e. most open chromatin) in each TSS."
      ],
      "metadata": {
        "id": "bvNLYC_93rlg"
      }
    },
    {
      "cell_type": "code",
      "source": [
        "run_in_crisprware('\\\n",
        "                  bigwig_to_signalwindow.py \\\n",
        "                  --window_size 250 \\\n",
        "                  ./gencode.v29/TSS_filtered.bed \\\n",
        "                  ./ENCFF600FDO.bigWig \\\n",
        "                  ./open_TSS.bed'\n",
        "                  )"
      ],
      "metadata": {
        "colab": {
          "base_uri": "https://localhost:8080/"
        },
        "id": "51k0gPsu1BhE",
        "outputId": "0b9bdcb7-953d-45d6-b2e2-1e76faf181ac"
      },
      "execution_count": null,
      "outputs": [
        {
          "output_type": "stream",
          "name": "stdout",
          "text": [
            "Processing BED file: ./gencode.v29/TSS_filtered.bed\n",
            "Using BigWig file: ./ENCFF600FDO.bigWig\n",
            "Output will be saved to: ./open_TSS.bed\n",
            "Window size: 250 bp\n",
            "Number of chromosomes in BigWig file: 148\n"
          ]
        }
      ]
    },
    {
      "cell_type": "markdown",
      "source": [
        "## BED called peaks\n",
        "\n",
        "If Bigwig files are not available we can also use called peaks in BED format to achieve the same end"
      ],
      "metadata": {
        "id": "kF0IOHmGRPRt"
      }
    },
    {
      "cell_type": "code",
      "source": [
        "!wget -q --show-progress https://www.encodeproject.org/files/ENCFF558BLC/@@download/ENCFF558BLC.bed.gz\n",
        "!wget -q --show-progress https://hgdownload.soe.ucsc.edu/goldenPath/hg38/chromosomes/chr16.fa.gz\n",
        "!gunzip -f *.gz"
      ],
      "metadata": {
        "colab": {
          "base_uri": "https://localhost:8080/"
        },
        "id": "xcxnM_2YR1e5",
        "outputId": "10501cdd-0bc2-4776-9b39-70ce118d1625"
      },
      "execution_count": null,
      "outputs": [
        {
          "output_type": "stream",
          "name": "stdout",
          "text": [
            "ENCFF558BLC.bed.gz  100%[===================>]   4.76M  8.34MB/s    in 0.6s    \n",
            "chr16.fa.gz         100%[===================>]  24.90M  24.0MB/s    in 1.0s    \n"
          ]
        }
      ]
    },
    {
      "cell_type": "markdown",
      "source": [
        "After downloading we can find protospacers by specifying the TSS starts sites and ATAC peaks in the `--locations_to_keep` argument. By default this will look for protospacers in the intersection of the two inputs."
      ],
      "metadata": {
        "id": "kK2QP0Q-UHkt"
      }
    },
    {
      "cell_type": "code",
      "source": [
        "run_in_crisprware('\\\n",
        "                  generate_guides \\\n",
        "                  --fasta chr16.fa \\\n",
        "                  --locations_to_keep ENCFF558BLC.bed open_TSS.bed \\\n",
        "                  --threads 2'\n",
        "                  )"
      ],
      "metadata": {
        "colab": {
          "base_uri": "https://localhost:8080/"
        },
        "id": "23H_hgvSUHLe",
        "outputId": "338806a4-58f8-4804-c7a6-626fe01a9a66"
      },
      "execution_count": null,
      "outputs": [
        {
          "output_type": "stream",
          "name": "stdout",
          "text": [
            "\n",
            "\tNo GTF file, '--feature exon' will be ignored.\n",
            "\n",
            "\n",
            "\tChromosomes for which to find targets:\tchr1 chr10 chr11 chr12 chr13 chr14 chr15 chr16 chr2 chr3 chr4 chr5 chr6 chr7 chr8 chr9\n",
            "\tProcessing chr16\n",
            "\n",
            "\tSaved output file to /content/crisprware/K562_TSS/chr16_gRNA/chr16_gRNA.bed\n",
            "\n"
          ]
        }
      ]
    },
    {
      "cell_type": "markdown",
      "source": [
        "These outputs can then be scored and ranked as done in the primary CRISPRware tutorial."
      ],
      "metadata": {
        "id": "HWrfwefMYNXS"
      }
    }
  ]
}