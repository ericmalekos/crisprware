{
  "cells": [
    {
      "cell_type": "markdown",
      "metadata": {
        "id": "8x-v3eN4mrcA"
      },
      "source": [
        "# **Installation and Setup**\n",
        "\n",
        "---\n",
        "\n",
        "Run this to set up CRISPRware environment in Colab\n",
        "\n"
      ]
    },
    {
      "cell_type": "code",
      "execution_count": 1,
      "metadata": {
        "colab": {
          "base_uri": "https://localhost:8080/"
        },
        "id": "rQIW6V6_mjVD",
        "outputId": "c2a2bf30-10c5-4b19-b626-6ba6ca9491e8"
      },
      "outputs": [
        {
          "output_type": "stream",
          "name": "stdout",
          "text": [
            "bin/micromamba\n"
          ]
        }
      ],
      "source": [
        "!mkdir -p /root/.mamba/pkgs\n",
        "!chmod -R 777 /root/.mamba\n",
        "!wget -qO- https://micromamba.snakepit.net/api/micromamba/linux-64/latest | tar -xvj bin/micromamba"
      ]
    },
    {
      "cell_type": "code",
      "execution_count": 2,
      "metadata": {
        "colab": {
          "base_uri": "https://localhost:8080/"
        },
        "id": "Q9u-5eSxm7rj",
        "outputId": "0f61faa4-5ef9-42a7-b7f3-f79ee3076637"
      },
      "outputs": [
        {
          "output_type": "stream",
          "name": "stdout",
          "text": [
            "Cloning into 'crisprware'...\n",
            "remote: Enumerating objects: 590, done.\u001b[K\n",
            "remote: Counting objects: 100% (117/117), done.\u001b[K\n",
            "remote: Compressing objects: 100% (81/81), done.\u001b[K\n",
            "remote: Total 590 (delta 74), reused 75 (delta 35), pack-reused 473 (from 1)\u001b[K\n",
            "Receiving objects: 100% (590/590), 107.75 MiB | 14.38 MiB/s, done.\n",
            "Resolving deltas: 100% (275/275), done.\n",
            "Updating files: 100% (121/121), done.\n",
            "/content/crisprware\n"
          ]
        }
      ],
      "source": [
        "!git clone https://github.com/ericmalekos/crisprware crisprware\n",
        "%cd crisprware"
      ]
    },
    {
      "cell_type": "code",
      "execution_count": 3,
      "metadata": {
        "colab": {
          "base_uri": "https://localhost:8080/"
        },
        "id": "k3GI0951oNFI",
        "outputId": "8531db26-2bc9-4675-8916-90ac0afbdca1",
        "collapsed": true
      },
      "outputs": [
        {
          "output_type": "stream",
          "name": "stdout",
          "text": [
            "\u001b[33m\u001b[1mwarning  libmamba\u001b[m You are using 'pip' as an additional package manager.\n",
            "    Be aware that packages installed with 'pip' are managed independently from 'conda-forge' channel.\n",
            "\u001b[2K   \u001b[90m━━━━━━━━━━━━━━━━━━━━━━━━━━━━━━━━━━━━━━━━\u001b[0m \u001b[32m2.0/2.0 MB\u001b[0m \u001b[31m21.4 MB/s\u001b[0m eta \u001b[36m0:00:00\u001b[0m\n",
            "\u001b[2K   \u001b[90m━━━━━━━━━━━━━━━━━━━━━━━━━━━━━━━━━━━━━━━━\u001b[0m \u001b[32m6.2/6.2 MB\u001b[0m \u001b[31m8.0 MB/s\u001b[0m eta \u001b[36m0:00:00\u001b[0m\n",
            "\u001b[2K   \u001b[90m━━━━━━━━━━━━━━━━━━━━━━━━━━━━━━━━━━━━━━━━\u001b[0m \u001b[32m12.7/12.7 MB\u001b[0m \u001b[31m39.2 MB/s\u001b[0m eta \u001b[36m0:00:00\u001b[0m\n",
            "\u001b[2K   \u001b[90m━━━━━━━━━━━━━━━━━━━━━━━━━━━━━━━━━━━━━━━━\u001b[0m \u001b[32m39.9/39.9 MB\u001b[0m \u001b[31m47.6 MB/s\u001b[0m eta \u001b[36m0:00:00\u001b[0m\n",
            "\u001b[2K   \u001b[90m━━━━━━━━━━━━━━━━━━━━━━━━━━━━━━━━━━━━━━━━\u001b[0m \u001b[32m12.9/12.9 MB\u001b[0m \u001b[31m130.7 MB/s\u001b[0m eta \u001b[36m0:00:00\u001b[0m\n",
            "\u001b[2K   \u001b[90m━━━━━━━━━━━━━━━━━━━━━━━━━━━━━━━━━━━━━━━━\u001b[0m \u001b[32m40.8/40.8 MB\u001b[0m \u001b[31m47.3 MB/s\u001b[0m eta \u001b[36m0:00:00\u001b[0m\n",
            "\u001b[?25hProcessing /content/crisprware\n",
            "  Preparing metadata (setup.py) ... \u001b[?25l\u001b[?25hdone\n",
            "Requirement already satisfied: pybedtools>=0.9 in /content/micromamba/envs/crisprware/lib/python3.12/site-packages (from crisprware==0.1.0) (0.10.0)\n",
            "Requirement already satisfied: rs3>=0.0.15 in /content/micromamba/envs/crisprware/lib/python3.12/site-packages (from crisprware==0.1.0) (0.0.16)\n",
            "Requirement already satisfied: biopython>=1.8 in /content/micromamba/envs/crisprware/lib/python3.12/site-packages (from crisprware==0.1.0) (1.84)\n",
            "Requirement already satisfied: lightgbm==3.3.5 in /content/micromamba/envs/crisprware/lib/python3.12/site-packages (from crisprware==0.1.0) (3.3.5)\n",
            "Requirement already satisfied: pybigwig in /content/micromamba/envs/crisprware/lib/python3.12/site-packages (from crisprware==0.1.0) (0.3.22)\n",
            "Requirement already satisfied: pandas in /content/micromamba/envs/crisprware/lib/python3.12/site-packages (from crisprware==0.1.0) (2.2.3)\n",
            "Requirement already satisfied: numpy in /content/micromamba/envs/crisprware/lib/python3.12/site-packages (from crisprware==0.1.0) (1.26.4)\n",
            "Requirement already satisfied: wheel in /content/micromamba/envs/crisprware/lib/python3.12/site-packages (from lightgbm==3.3.5->crisprware==0.1.0) (0.44.0)\n",
            "Requirement already satisfied: scipy in /content/micromamba/envs/crisprware/lib/python3.12/site-packages (from lightgbm==3.3.5->crisprware==0.1.0) (1.14.1)\n",
            "Requirement already satisfied: scikit-learn!=0.22.0 in /content/micromamba/envs/crisprware/lib/python3.12/site-packages (from lightgbm==3.3.5->crisprware==0.1.0) (1.5.2)\n",
            "Requirement already satisfied: pysam in /content/micromamba/envs/crisprware/lib/python3.12/site-packages (from pybedtools>=0.9->crisprware==0.1.0) (0.22.1)\n",
            "Requirement already satisfied: pip in /content/micromamba/envs/crisprware/lib/python3.12/site-packages (from rs3>=0.0.15->crisprware==0.1.0) (24.2)\n",
            "Requirement already satisfied: packaging in /content/micromamba/envs/crisprware/lib/python3.12/site-packages (from rs3>=0.0.15->crisprware==0.1.0) (24.1)\n",
            "Requirement already satisfied: joblib>=1.0.1 in /content/micromamba/envs/crisprware/lib/python3.12/site-packages (from rs3>=0.0.15->crisprware==0.1.0) (1.4.2)\n",
            "Requirement already satisfied: sglearn>=1.2.5 in /content/micromamba/envs/crisprware/lib/python3.12/site-packages (from rs3>=0.0.15->crisprware==0.1.0) (1.2.5)\n",
            "Requirement already satisfied: tqdm>=4.61.2 in /content/micromamba/envs/crisprware/lib/python3.12/site-packages (from rs3>=0.0.15->crisprware==0.1.0) (4.66.5)\n",
            "Requirement already satisfied: pyarrow>=4.0.1 in /content/micromamba/envs/crisprware/lib/python3.12/site-packages (from rs3>=0.0.15->crisprware==0.1.0) (17.0.0)\n",
            "Requirement already satisfied: requests>=2.25.1 in /content/micromamba/envs/crisprware/lib/python3.12/site-packages (from rs3>=0.0.15->crisprware==0.1.0) (2.32.3)\n",
            "Requirement already satisfied: python-dateutil>=2.8.2 in /content/micromamba/envs/crisprware/lib/python3.12/site-packages (from pandas->crisprware==0.1.0) (2.9.0)\n",
            "Requirement already satisfied: pytz>=2020.1 in /content/micromamba/envs/crisprware/lib/python3.12/site-packages (from pandas->crisprware==0.1.0) (2024.2)\n",
            "Requirement already satisfied: tzdata>=2022.7 in /content/micromamba/envs/crisprware/lib/python3.12/site-packages (from pandas->crisprware==0.1.0) (2024.2)\n",
            "Requirement already satisfied: six>=1.5 in /content/micromamba/envs/crisprware/lib/python3.12/site-packages (from python-dateutil>=2.8.2->pandas->crisprware==0.1.0) (1.16.0)\n",
            "Requirement already satisfied: charset-normalizer<4,>=2 in /content/micromamba/envs/crisprware/lib/python3.12/site-packages (from requests>=2.25.1->rs3>=0.0.15->crisprware==0.1.0) (3.3.2)\n",
            "Requirement already satisfied: idna<4,>=2.5 in /content/micromamba/envs/crisprware/lib/python3.12/site-packages (from requests>=2.25.1->rs3>=0.0.15->crisprware==0.1.0) (3.10)\n",
            "Requirement already satisfied: urllib3<3,>=1.21.1 in /content/micromamba/envs/crisprware/lib/python3.12/site-packages (from requests>=2.25.1->rs3>=0.0.15->crisprware==0.1.0) (2.2.3)\n",
            "Requirement already satisfied: certifi>=2017.4.17 in /content/micromamba/envs/crisprware/lib/python3.12/site-packages (from requests>=2.25.1->rs3>=0.0.15->crisprware==0.1.0) (2024.8.30)\n",
            "Requirement already satisfied: threadpoolctl>=3.1.0 in /content/micromamba/envs/crisprware/lib/python3.12/site-packages (from scikit-learn!=0.22.0->lightgbm==3.3.5->crisprware==0.1.0) (3.5.0)\n",
            "Requirement already satisfied: seqfold>=0.7.7 in /content/micromamba/envs/crisprware/lib/python3.12/site-packages (from sglearn>=1.2.5->rs3>=0.0.15->crisprware==0.1.0) (0.7.18)\n",
            "Building wheels for collected packages: crisprware\n",
            "  Building wheel for crisprware (setup.py) ... \u001b[?25l\u001b[?25hdone\n",
            "  Created wheel for crisprware: filename=crisprware-0.1.0-py3-none-any.whl size=62480 sha256=83c03c71ab189a08bfbe86b20187607023cee18623322ebc0e39963a8a3dfb40\n",
            "  Stored in directory: /tmp/pip-ephem-wheel-cache-s6xlgxup/wheels/49/d7/cb/e2e426ba44c1c6ee042d0844ef83de0fd1b884eb93cadf962e\n",
            "Successfully built crisprware\n",
            "Installing collected packages: crisprware\n",
            "Successfully installed crisprware-0.1.0\n"
          ]
        }
      ],
      "source": [
        "!/content/bin/micromamba env create -f environment.yml -n crisprware --root-prefix /content/micromamba --quiet -y\n",
        "!/content/bin/micromamba run -n crisprware --root-prefix /content/micromamba pip install ."
      ]
    },
    {
      "cell_type": "code",
      "execution_count": 4,
      "metadata": {
        "id": "Abxei8YWM5me"
      },
      "outputs": [],
      "source": [
        "# A helper function to run commands in the crisprware environment\n",
        "# Wrap each module in this command before running\n",
        "# This is only required in the Colab environment\n",
        "def run_in_crisprware(command):\n",
        "    !/content/bin/micromamba run -n crisprware --root-prefix /content/micromamba {command}"
      ]
    },
    {
      "cell_type": "markdown",
      "metadata": {
        "id": "Un52xOS78Hez"
      },
      "source": [
        "# **Tutorial**\n",
        "\n",
        "\n",
        "---\n",
        "\n",
        "Download [osa1_r7 genome and annotation file](https://rice.uga.edu/download_osa1r7.shtml):"
      ]
    },
    {
      "cell_type": "code",
      "execution_count": 5,
      "metadata": {
        "colab": {
          "base_uri": "https://localhost:8080/"
        },
        "id": "7Hq5AjhZ8Oi4",
        "outputId": "81cea6e3-674e-4548-9a34-4f451aa22329"
      },
      "outputs": [
        {
          "output_type": "stream",
          "name": "stdout",
          "text": [
            "/content/crisprware/osa1_r7\n",
            "osa1_r7.asm.repeat_ 100%[===================>]  77.96M  20.9MB/s    in 3.9s    \n",
            "osa1_r7.all_models. 100%[===================>]   8.49M  8.15MB/s    in 1.0s    \n"
          ]
        }
      ],
      "source": [
        "!mkdir -p osa1_r7\n",
        "%cd osa1_r7\n",
        "!wget -q --show-progress https://rice.uga.edu/osa1r7_download/osa1_r7.asm.repeat_masked.fa.gz\n",
        "!wget -q --show-progress https://rice.uga.edu/osa1r7_download/osa1_r7.all_models.gff3.gz\n",
        "!gunzip *.gz"
      ]
    },
    {
      "cell_type": "markdown",
      "metadata": {
        "id": "YyADDgjTBee1"
      },
      "source": [
        "#### For each protein coding gene, extract the longest isoform model.  \n",
        "**Note:** the osa1_r7 gff3 annotation needs to be updated to included \"gene_id\" and \"transcript_id\" features, the `preprocess_annotation` module will handle this automatically and output an updated gff."
      ]
    },
    {
      "cell_type": "code",
      "execution_count": 6,
      "metadata": {
        "colab": {
          "base_uri": "https://localhost:8080/"
        },
        "id": "HaryTqKQ8ij4",
        "outputId": "0bec44d5-5102-494a-d5bd-c37e826d1413"
      },
      "outputs": [
        {
          "output_type": "stream",
          "name": "stdout",
          "text": [
            "\n",
            "\n",
            "Conversion successful. GTF file saved as osa1_r7.all_models.gtf\n",
            "\n",
            "\tSaving longest CDS GTF to: /content/crisprware/osa1_r7/osa1_r7.all_models/osa1_r7.all_models_longestCDS.gtf\n",
            "\n",
            "\n"
          ]
        }
      ],
      "source": [
        "run_in_crisprware('\\\n",
        "                  preprocess_annotation --gtf osa1_r7.all_models.gff3 \\\n",
        "                  --model longest \\\n",
        "                  ')"
      ]
    },
    {
      "cell_type": "markdown",
      "source": [
        "#### Build genome index"
      ],
      "metadata": {
        "id": "4yon_ZMIIDUW"
      }
    },
    {
      "cell_type": "code",
      "source": [
        "run_in_crisprware('index_genome --fasta osa1_r7.asm.repeat_masked.fa')"
      ],
      "metadata": {
        "colab": {
          "base_uri": "https://localhost:8080/"
        },
        "id": "et8yVZQLCsLk",
        "outputId": "d64a7ebe-cd72-4c1f-8887-3bf6e9cfa077"
      },
      "execution_count": 7,
      "outputs": [
        {
          "output_type": "stream",
          "name": "stdout",
          "text": [
            "Attempting to read raw sequence file (if constructed)...\n",
            "No raw sequence file \"osa1_r7.asm.repeat_masked.fa.forward.dna\". Building now...\n",
            "No raw sequence file \"osa1_r7.asm.repeat_masked.fa.reverse.dna\". Building now...\n",
            "[2024-10-09 00:18:44.252] [guidescan2] [\u001b[32minfo\u001b[m] Constructing genomic index.\n",
            "[2024-10-09 00:18:44.774] [guidescan2] [\u001b[32minfo\u001b[m] Constructing forward genomic index.\n",
            "[2024-10-09 00:20:35.183] [guidescan2] [\u001b[32minfo\u001b[m] Constructing reverse genomic index.\n",
            "[2024-10-09 00:22:20.528] [guidescan2] [\u001b[32minfo\u001b[m] Index construction complete.\n",
            "\tRemoving file: osa1_r7.asm.repeat_masked.fa.forward.dna\n",
            "\tRemoving file: osa1_r7.asm.repeat_masked.fa.reverse.dna\n"
          ]
        }
      ]
    },
    {
      "cell_type": "markdown",
      "source": [
        "#### Find AGG adjacent protospacers in CDS"
      ],
      "metadata": {
        "id": "0e-VtO7XIgF7"
      }
    },
    {
      "cell_type": "code",
      "source": [
        "run_in_crisprware('\\\n",
        "                  generate_guides -f osa1_r7.asm.repeat_masked.fa \\\n",
        "                  --locations_to_keep osa1_r7.all_models/osa1_r7.all_models_longestCDS.gtf \\\n",
        "                  --feature CDS \\\n",
        "                  --pam AGG \\\n",
        "                  --threads 2 \\\n",
        "                  --coords_as_active_site \\\n",
        "                  ')"
      ],
      "metadata": {
        "colab": {
          "base_uri": "https://localhost:8080/"
        },
        "id": "9hTmpAijKdP1",
        "outputId": "99831c3c-0748-47f4-9877-215d4010d0ae"
      },
      "execution_count": 8,
      "outputs": [
        {
          "output_type": "stream",
          "name": "stdout",
          "text": [
            "\n",
            "\tChromosomes for which to find targets:\tChr1 Chr10 Chr11 Chr12 Chr2 Chr3 Chr4 Chr5 Chr6 Chr7 Chr8 Chr9 ChrSy ChrUn\n",
            "\tProcessing Chr1\n",
            "\tProcessing Chr2\n",
            "\tProcessing Chr3\n",
            "\tProcessing Chr4\n",
            "\tProcessing Chr5\n",
            "\tProcessing Chr6\n",
            "\tProcessing Chr7\n",
            "\tProcessing Chr8\n",
            "\tProcessing Chr9\n",
            "\tProcessing Chr10\n",
            "\tProcessing Chr11\n",
            "\tProcessing Chr12\n",
            "\tProcessing ChrUn\n",
            "\tProcessing ChrSy\n",
            "\n",
            "\tSaved output file to /content/crisprware/osa1_r7/osa1_r7.asm.repeat_masked_gRNA/osa1_r7.asm.repeat_masked_gRNA.bed\n",
            "\n"
          ]
        }
      ]
    },
    {
      "cell_type": "markdown",
      "source": [
        "#### Score gRNAs\n",
        "\n",
        "To reduce run time for demonstration purposes we will subset the first 10,000 guides and score those.  \n",
        "We will also drop guides with RS3 score less than 0.5 (--min_rs3 0.5) before off-target scoring"
      ],
      "metadata": {
        "id": "K4aFsQEBvhTd"
      }
    },
    {
      "cell_type": "code",
      "source": [
        "!head -n 10001 osa1_r7.asm.repeat_masked_gRNA/osa1_r7.asm.repeat_masked_gRNA.bed > osa1_r7.asm.repeat_masked_gRNA/10K_guides.bed"
      ],
      "metadata": {
        "id": "sS3tOxmCxgGE"
      },
      "execution_count": 9,
      "outputs": []
    },
    {
      "cell_type": "code",
      "source": [
        "run_in_crisprware('\\\n",
        "                    score_guides -b osa1_r7.asm.repeat_masked_gRNA/10K_guides.bed \\\n",
        "                    --threads 2 \\\n",
        "                    --min_rs3 0.5 \\\n",
        "                    --guidescan2_indices osa1_r7.asm.repeat_masked_gscan2/osa1_r7.asm.repeat_masked_gscan2 \\\n",
        "                    --tracr Chen2013 \\\n",
        "                  ')"
      ],
      "metadata": {
        "colab": {
          "base_uri": "https://localhost:8080/"
        },
        "id": "chFuIpekMH1I",
        "outputId": "2768f36a-8f06-491d-aabe-a14dd986b9d1"
      },
      "execution_count": 10,
      "outputs": [
        {
          "output_type": "stream",
          "name": "stdout",
          "text": [
            "\n",
            "\tBefore dropping duplicates:\t10000\n",
            "\tAfter dropping duplicates:\t9370\n",
            "\n",
            "\n",
            "\tBeginning RS3 cleavage scoring\n",
            "\tIf memory constrained reduce '--chunk_size'\n",
            "\n",
            "Calculating sequence-based features\n",
            "100% 9370/9370 [00:33<00:00, 280.38it/s]\n",
            "\n",
            "\tAfter dropping RS3 cleavage scores below 0.5:\t1291\n",
            "\n",
            "\n",
            "\tBeginning Guidescan2 specificity scoring against osa1_r7.asm.repeat_masked_gscan2/osa1_r7.asm.repeat_masked_gscan2\n",
            "\tIf memory constrained reduce '--chunk_size'\n",
            "\n",
            "input:/content/crisprware/osa1_r7/10K_guides_scoredgRNA/tmp/osa1_r7.asm.repeat_masked_gscan2Input.1.csv\n",
            "\n",
            "\tSaved Guidescan input file to /content/crisprware/osa1_r7/10K_guides_scoredgRNA/tmp/osa1_r7.asm.repeat_masked_gscan2Input.1.csv\n",
            "\n",
            "[2024-10-09 00:25:50.977] [guidescan2] [\u001b[32minfo\u001b[m] Loading genome index at \"osa1_r7.asm.repeat_masked_gscan2/osa1_r7.asm.repeat_masked_gscan2\".\n",
            "[2024-10-09 00:25:53.028] [guidescan2] [\u001b[32minfo\u001b[m] Successfully loaded genome index.\n",
            "[2024-10-09 00:25:53.028] [guidescan2] [\u001b[32minfo\u001b[m] Loading kmers.\n",
            "[2024-10-09 00:25:53.029] [guidescan2] [\u001b[32minfo\u001b[m] Read in 1291 kmer(s).\n",
            "[2024-10-09 00:25:56.696] [guidescan2] [\u001b[32minfo\u001b[m] Processed: 100/1291 kmers            Elapsed: 3 secs               Kmers/sec: 33.33333\n",
            "[2024-10-09 00:25:59.008] [guidescan2] [\u001b[32minfo\u001b[m] Processed: 200/1291 kmers            Elapsed: 5 secs               Kmers/sec: 40\n",
            "[2024-10-09 00:26:00.922] [guidescan2] [\u001b[32minfo\u001b[m] Processed: 300/1291 kmers            Elapsed: 7 secs               Kmers/sec: 42.85714\n",
            "[2024-10-09 00:26:02.077] [guidescan2] [\u001b[32minfo\u001b[m] Processed: 400/1291 kmers            Elapsed: 9 secs               Kmers/sec: 44.44444\n",
            "[2024-10-09 00:26:03.176] [guidescan2] [\u001b[32minfo\u001b[m] Processed: 500/1291 kmers            Elapsed: 10 secs              Kmers/sec: 50\n",
            "[2024-10-09 00:26:05.107] [guidescan2] [\u001b[32minfo\u001b[m] Processed: 600/1291 kmers            Elapsed: 12 secs              Kmers/sec: 50\n",
            "[2024-10-09 00:26:06.906] [guidescan2] [\u001b[32minfo\u001b[m] Processed: 700/1291 kmers            Elapsed: 13 secs              Kmers/sec: 53.84615\n",
            "[2024-10-09 00:26:10.066] [guidescan2] [\u001b[32minfo\u001b[m] Processed: 800/1291 kmers            Elapsed: 17 secs              Kmers/sec: 47.05882\n",
            "[2024-10-09 00:26:12.866] [guidescan2] [\u001b[32minfo\u001b[m] Processed: 900/1291 kmers            Elapsed: 19 secs              Kmers/sec: 47.36842\n",
            "[2024-10-09 00:26:14.506] [guidescan2] [\u001b[32minfo\u001b[m] Processed: 1000/1291 kmers           Elapsed: 21 secs              Kmers/sec: 47.61905\n",
            "[2024-10-09 00:26:16.202] [guidescan2] [\u001b[32minfo\u001b[m] Processed: 1100/1291 kmers           Elapsed: 23 secs              Kmers/sec: 47.82609\n",
            "[2024-10-09 00:26:17.720] [guidescan2] [\u001b[32minfo\u001b[m] Processed: 1200/1291 kmers           Elapsed: 24 secs              Kmers/sec: 50\n",
            "[2024-10-09 00:26:19.552] [guidescan2] [\u001b[32minfo\u001b[m] Processed 1291 kmers in 26 seconds.\n",
            "\n",
            "\tSaved output file to /content/crisprware/osa1_r7/10K_guides_scoredgRNA/10K_guides_scoredgRNA.bed\n",
            "\n"
          ]
        }
      ]
    },
    {
      "cell_type": "markdown",
      "source": [
        "Let's check the scored output:\n"
      ],
      "metadata": {
        "id": "jIGqVLrgxc2S"
      }
    },
    {
      "cell_type": "code",
      "source": [
        "!head 10K_guides_scoredgRNA/10K_guides_scoredgRNA.bed"
      ],
      "metadata": {
        "colab": {
          "base_uri": "https://localhost:8080/"
        },
        "id": "3I9KDuLaMOWQ",
        "outputId": "fe8f3a51-9e00-42d9-fb23-aeb90a0b1f9d"
      },
      "execution_count": 11,
      "outputs": [
        {
          "output_type": "stream",
          "name": "stdout",
          "text": [
            "#chr\tstart\tstop\tcontext\tstrand\tsequence\tRS3_score_Chen2013\tspecificity_osa1_r7.asm.repeat_masked_gscan2\n",
            "Chr1\t1002474\t1002494\tATGGGACATGCACTGGTAACCGAGAGGCAC\t+\tGACATGCACTGGTAACCGAG\t0.8011\t1.0\n",
            "Chr1\t1003076\t1003096\tGTACATGTGGCGGCCCATTATGGAAGGTGC\t+\tATGTGGCGGCCCATTATGGA\t0.905\t1.0\n",
            "Chr1\t1005117\t1005137\tGCAAAAGGTCAGGAGCAGGAGTACAGGATG\t+\tAAGGTCAGGAGCAGGAGTAC\t1.0079\t1.0\n",
            "Chr1\t1005161\t1005181\tTTACACGAGACAGAGCTATTCATAAGGGTA\t+\tACGAGACAGAGCTATTCATA\t0.7997\t1.0\n",
            "Chr1\t1010347\t1010367\tGTAAGGAGTAGTGAGACCATGGGGAGGGAT\t+\tGGAGTAGTGAGACCATGGGG\t0.7008\t0.5403\n",
            "Chr1\t1010381\t1010401\tCAGCTGCAGCAGTGATGCATGAGAAGGTGA\t+\tTGCAGCAGTGATGCATGAGA\t0.5768\t0.7756\n",
            "Chr1\t1010397\t1010417\tGCATGAGAAGGTGAAGCTGTTCATAGGAGT\t+\tGAGAAGGTGAAGCTGTTCAT\t0.6933\t1.0\n",
            "Chr1\t1010837\t1010857\tATTGTTCAGGATAACTGCAAACCAAGGTTT\t+\tTTCAGGATAACTGCAAACCA\t0.5856\t1.0\n",
            "Chr1\t1011086\t1011106\tATGCAGGCTTGAGCAAGTAGACCTAGGCAA\t+\tAGGCTTGAGCAAGTAGACCT\t1.0078\t1.0\n"
          ]
        }
      ]
    },
    {
      "cell_type": "markdown",
      "source": [
        "#### Finally, we can rank the guides by RS3_score\n",
        "\n"
      ],
      "metadata": {
        "id": "yZZKVMoiMi5r"
      }
    },
    {
      "cell_type": "code",
      "source": [
        "run_in_crisprware('\\\n",
        "                rank_guides \\\n",
        "                --scored_guides 10K_guides_scoredgRNA/10K_guides_scoredgRNA.bed \\\n",
        "                --targets osa1_r7.all_models/osa1_r7.all_models_longestCDS.gtf \\\n",
        "                --feature CDS \\\n",
        "                --ranking_columns RS3_score_Chen2013 \\\n",
        "                ')"
      ],
      "metadata": {
        "colab": {
          "base_uri": "https://localhost:8080/"
        },
        "id": "8SvSQru_MiTr",
        "outputId": "dc33ba5d-77af-4030-cb35-50c9bdcc75fb"
      },
      "execution_count": 12,
      "outputs": [
        {
          "output_type": "stream",
          "name": "stdout",
          "text": [
            "\n",
            "\n",
            "\tColumn weights not set, setting weights to 1\n",
            "\n",
            "\tosa1_r7.all_models/osa1_r7.all_models_longestCDS.gtf is GTF format\n",
            "\tProcessing: \tosa1_r7.all_models/osa1_r7.all_models_longestCDS.gtf \n",
            "\tFeature: \tCDS \n",
            "\tPercentile range: \t[0, 100]\n",
            "\n",
            "\tInitial gene count:\t55986\n",
            "\n",
            "\n",
            "\tPrior to positional filtering: \n",
            "\n",
            "#\tMedian number of gRNAs per target: 0.0\n",
            "#\tNumber of targets with 0 gRNA guides: 55682\n",
            "#\n",
            "#\tCalculations exluding targets with 0 counts:\n",
            "#\n",
            "#\t\tMedian number of gRNAs per target: 2.0\n",
            "#\t\tMinimum number of gRNAs per target: 1\n",
            "#\t\tMaximum number of gRNAs per target: 20\n",
            "#\n",
            "#######################################################################\n",
            "\n",
            "\tProcessing: \tosa1_r7.all_models/osa1_r7.all_models_longestCDS.gtf \n",
            "\tFeature: \tCDS \n",
            "\tPercentile range: \t[0, 100]\n",
            "\n",
            "\n",
            "\tPrior to filtering: \n",
            "\n",
            "#\tMedian number of gRNAs per target: 0.0\n",
            "#\tNumber of targets with 0 gRNA guides: 55683\n",
            "#\n",
            "#\tCalculations exluding targets with 0 counts:\n",
            "#\n",
            "#\t\tMedian number of gRNAs per target: 2.0\n",
            "#\t\tMinimum number of gRNAs per target: 1\n",
            "#\t\tMaximum number of gRNAs per target: 20\n",
            "#\n",
            "#######################################################################\n",
            "\n",
            "\t--min_spacing=0, no filtering applied\n",
            "\n",
            "#\tMedian number of gRNAs per target: 0.0\n",
            "#\tNumber of targets with 0 gRNA guides: 55683\n",
            "#\n",
            "#\tCalculations exluding targets with 0 counts:\n",
            "#\n",
            "#\t\tMedian number of gRNAs per target: 2.0\n",
            "#\t\tMinimum number of gRNAs per target: 1\n",
            "#\t\tMaximum number of gRNAs per target: 20\n",
            "#\n",
            "#######################################################################\n",
            "\n",
            "\t--num_to_keep=-1, all gRNAs returned\n",
            "\n",
            "#\tMedian number of gRNAs per target: 0.0\n",
            "#\tNumber of targets with 0 gRNA guides: 55683\n",
            "#\n",
            "#\tCalculations exluding targets with 0 counts:\n",
            "#\n",
            "#\t\tMedian number of gRNAs per target: 2.0\n",
            "#\t\tMinimum number of gRNAs per target: 1\n",
            "#\t\tMaximum number of gRNAs per target: 20\n",
            "#\n",
            "#######################################################################\n",
            "\n"
          ]
        }
      ]
    },
    {
      "cell_type": "code",
      "source": [
        "!head -20 10K_guides_rankedgRNA/10K_guides_rankedgRNA.bed"
      ],
      "metadata": {
        "colab": {
          "base_uri": "https://localhost:8080/"
        },
        "id": "KzENQTJ4RoLA",
        "outputId": "1d16592b-ce98-495f-b3f0-460dbc27f5ad"
      },
      "execution_count": null,
      "outputs": [
        {
          "output_type": "stream",
          "name": "stdout",
          "text": [
            "#chr\tstart\tstop\tstrand\tsequence\tRS3_score_Chen2013\tspecificity_osa1_r7.asm.repeat_masked_gscan2\ttarget_id\tRS3_score_Chen2013_normalized\tcombined_weighted\n",
            "Chr1\t5514\t5534\t+\tTGAGTAGTACCTCAGAGTAT\t0.9508\t1.0\tLOC_Os01g01010\t0.4949\t0.4949\n",
            "Chr1\t10165\t10185\t+\tGAGGAAGAAGTATATTTACA\t0.7991\t0.9561\tLOC_Os01g01010\t0.3283\t0.3283\n",
            "Chr1\t5517\t5537\t+\tGTAGTACCTCAGAGTATAGG\t0.62\t1.0\tLOC_Os01g01010\t0.1316\t0.1316\n",
            "Chr1\t4398\t4418\t+\tGATAATGATGGAAAGGTCAT\t0.5564\t1.0\tLOC_Os01g01010\t0.0617\t0.0617\n",
            "Chr1\t12907\t12927\t+\tGGGCGGAGTGAAGAAGCAGG\t0.8379\t0.8203\tLOC_Os01g01030\t0.3709\t0.3709\n",
            "Chr1\t14167\t14187\t+\tATTATCAATGGCACCTACAA\t0.7421\t0.9512\tLOC_Os01g01030\t0.2657\t0.2657\n",
            "Chr1\t13791\t13811\t+\tTCAACCAAGCAAGATCAATC\t0.7158\t0.6629\tLOC_Os01g01030\t0.2368\t0.2368\n",
            "Chr1\t12904\t12924\t+\tGCTGGGCGGAGTGAAGAAGC\t0.6611\t1.0\tLOC_Os01g01030\t0.1767\t0.1767\n",
            "Chr1\t24555\t24575\t+\tGTAGTGAAGAGGAAAGATAC\t1.2892\t1.0\tLOC_Os01g01050\t0.8667\t0.8667\n",
            "Chr1\t25999\t26019\t+\tGGACAGCAGTGGCAAAACCT\t0.9228\t1.0\tLOC_Os01g01050\t0.4642\t0.4642\n",
            "Chr1\t26164\t26184\t+\tCAGGTGGCAAGGAAGATAGC\t0.8254\t1.0\tLOC_Os01g01050\t0.3572\t0.3572\n",
            "Chr1\t25442\t25462\t+\tAGATCTTGAAGAAGCCTGGA\t0.7303\t1.0\tLOC_Os01g01050\t0.2527\t0.2527\n",
            "Chr1\t26361\t26381\t+\tAGTGATGGTCCGGTGCGGAA\t0.5656\t1.0\tLOC_Os01g01050\t0.0718\t0.0718\n",
            "Chr1\t33454\t33474\t+\tTAACAGAGGCATCTAAGGTC\t1.1551\t1.0\tLOC_Os01g01070\t0.7194\t0.7194\n",
            "Chr1\t33307\t33327\t+\tAATTGCCAGAGAGAATTACA\t0.7808\t1.0\tLOC_Os01g01070\t0.3082\t0.3082\n",
            "Chr1\t32365\t32385\t+\tTCTGATATCAGGCTGCAAAG\t0.6876\t1.0\tLOC_Os01g01070\t0.2058\t0.2058\n",
            "Chr1\t32558\t32578\t+\tAGATATAAGTGCCTTCCAGG\t0.6545\t1.0\tLOC_Os01g01070\t0.1695\t0.1695\n",
            "Chr1\t32555\t32575\t+\tTGAAGATATAAGTGCCTTCC\t0.626\t0.9108\tLOC_Os01g01070\t0.1382\t0.1382\n",
            "Chr1\t36821\t36841\t+\tATTGCTGGGAGTGAATCCGA\t1.0389\t1.0\tLOC_Os01g01080\t0.5917\t0.5917\n"
          ]
        }
      ]
    },
    {
      "cell_type": "markdown",
      "source": [
        "Notice the combined_weighted and RS3_score_Chen2013_normalized columns have the same value because a single --ranking_column was passed."
      ],
      "metadata": {
        "id": "wX1yTYYu-_Cp"
      }
    }
  ],
  "metadata": {
    "colab": {
      "provenance": []
    },
    "kernelspec": {
      "display_name": "Python 3",
      "name": "python3"
    },
    "language_info": {
      "name": "python"
    }
  },
  "nbformat": 4,
  "nbformat_minor": 0
}