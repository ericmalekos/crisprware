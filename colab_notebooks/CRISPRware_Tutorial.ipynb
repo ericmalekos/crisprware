{
  "nbformat": 4,
  "nbformat_minor": 0,
  "metadata": {
    "colab": {
      "provenance": [],
      "collapsed_sections": [
        "8x-v3eN4mrcA",
        "VYER2IVfExX-"
      ]
    },
    "kernelspec": {
      "name": "python3",
      "display_name": "Python 3"
    },
    "language_info": {
      "name": "python"
    }
  },
  "cells": [
    {
      "cell_type": "markdown",
      "source": [
        "# **Installation and Setup**\n",
        "\n",
        "---\n",
        "\n",
        "Run this to set up CRISPRware environment in Colab\n",
        "\n"
      ],
      "metadata": {
        "id": "8x-v3eN4mrcA"
      }
    },
    {
      "cell_type": "code",
      "execution_count": 1,
      "metadata": {
        "colab": {
          "base_uri": "https://localhost:8080/"
        },
        "id": "rQIW6V6_mjVD",
        "outputId": "171f5b3b-920d-4ba5-9032-150a7b873978"
      },
      "outputs": [
        {
          "output_type": "stream",
          "name": "stdout",
          "text": [
            "bin/micromamba\n"
          ]
        }
      ],
      "source": [
        "!mkdir -p /root/.mamba/pkgs\n",
        "!chmod -R 777 /root/.mamba\n",
        "!wget -qO- https://micromamba.snakepit.net/api/micromamba/linux-64/latest | tar -xvj bin/micromamba"
      ]
    },
    {
      "cell_type": "code",
      "source": [
        "!git clone https://github.com/ericmalekos/crisprware crisprware\n",
        "%cd crisprware"
      ],
      "metadata": {
        "colab": {
          "base_uri": "https://localhost:8080/"
        },
        "id": "Q9u-5eSxm7rj",
        "outputId": "ab82863e-2310-4f6a-e804-73f79169388f"
      },
      "execution_count": 2,
      "outputs": [
        {
          "output_type": "stream",
          "name": "stdout",
          "text": [
            "Cloning into 'crisprware'...\n",
            "remote: Enumerating objects: 590, done.\u001b[K\n",
            "remote: Counting objects: 100% (117/117), done.\u001b[K\n",
            "remote: Compressing objects: 100% (81/81), done.\u001b[K\n",
            "remote: Total 590 (delta 74), reused 75 (delta 35), pack-reused 473 (from 1)\u001b[K\n",
            "Receiving objects: 100% (590/590), 107.75 MiB | 15.06 MiB/s, done.\n",
            "Resolving deltas: 100% (275/275), done.\n",
            "Updating files: 100% (121/121), done.\n",
            "/content/crisprware\n"
          ]
        }
      ]
    },
    {
      "cell_type": "code",
      "source": [
        "!/content/bin/micromamba env create -f environment.yml -n crisprware --root-prefix /content/micromamba --quiet -y\n",
        "!/content/bin/micromamba run -n crisprware --root-prefix /content/micromamba pip install ."
      ],
      "metadata": {
        "colab": {
          "base_uri": "https://localhost:8080/"
        },
        "id": "k3GI0951oNFI",
        "outputId": "00e3f579-499f-4b47-a1f7-65a7ba13a6cb"
      },
      "execution_count": 3,
      "outputs": [
        {
          "output_type": "stream",
          "name": "stdout",
          "text": [
            "\u001b[33m\u001b[1mwarning  libmamba\u001b[m You are using 'pip' as an additional package manager.\n",
            "    Be aware that packages installed with 'pip' are managed independently from 'conda-forge' channel.\n",
            "\u001b[2K   \u001b[90m━━━━━━━━━━━━━━━━━━━━━━━━━━━━━━━━━━━━━━━━\u001b[0m \u001b[32m2.0/2.0 MB\u001b[0m \u001b[31m30.9 MB/s\u001b[0m eta \u001b[36m0:00:00\u001b[0m\n",
            "\u001b[2K   \u001b[90m━━━━━━━━━━━━━━━━━━━━━━━━━━━━━━━━━━━━━━━━\u001b[0m \u001b[32m6.2/6.2 MB\u001b[0m \u001b[31m64.8 MB/s\u001b[0m eta \u001b[36m0:00:00\u001b[0m\n",
            "\u001b[2K   \u001b[90m━━━━━━━━━━━━━━━━━━━━━━━━━━━━━━━━━━━━━━━━\u001b[0m \u001b[32m12.7/12.7 MB\u001b[0m \u001b[31m71.6 MB/s\u001b[0m eta \u001b[36m0:00:00\u001b[0m\n",
            "\u001b[2K   \u001b[90m━━━━━━━━━━━━━━━━━━━━━━━━━━━━━━━━━━━━━━━━\u001b[0m \u001b[32m39.9/39.9 MB\u001b[0m \u001b[31m28.9 MB/s\u001b[0m eta \u001b[36m0:00:00\u001b[0m\n",
            "\u001b[2K   \u001b[90m━━━━━━━━━━━━━━━━━━━━━━━━━━━━━━━━━━━━━━━━\u001b[0m \u001b[32m12.9/12.9 MB\u001b[0m \u001b[31m100.7 MB/s\u001b[0m eta \u001b[36m0:00:00\u001b[0m\n",
            "\u001b[2K   \u001b[90m━━━━━━━━━━━━━━━━━━━━━━━━━━━━━━━━━━━━━━━━\u001b[0m \u001b[32m40.8/40.8 MB\u001b[0m \u001b[31m44.3 MB/s\u001b[0m eta \u001b[36m0:00:00\u001b[0m\n",
            "\u001b[?25hProcessing /content/crisprware\n",
            "  Preparing metadata (setup.py) ... \u001b[?25l\u001b[?25hdone\n",
            "Requirement already satisfied: pybedtools>=0.9 in /content/micromamba/envs/crisprware/lib/python3.12/site-packages (from crisprware==0.1.0) (0.10.0)\n",
            "Requirement already satisfied: rs3>=0.0.15 in /content/micromamba/envs/crisprware/lib/python3.12/site-packages (from crisprware==0.1.0) (0.0.16)\n",
            "Requirement already satisfied: biopython>=1.8 in /content/micromamba/envs/crisprware/lib/python3.12/site-packages (from crisprware==0.1.0) (1.84)\n",
            "Requirement already satisfied: lightgbm==3.3.5 in /content/micromamba/envs/crisprware/lib/python3.12/site-packages (from crisprware==0.1.0) (3.3.5)\n",
            "Requirement already satisfied: pybigwig in /content/micromamba/envs/crisprware/lib/python3.12/site-packages (from crisprware==0.1.0) (0.3.22)\n",
            "Requirement already satisfied: pandas in /content/micromamba/envs/crisprware/lib/python3.12/site-packages (from crisprware==0.1.0) (2.2.3)\n",
            "Requirement already satisfied: numpy in /content/micromamba/envs/crisprware/lib/python3.12/site-packages (from crisprware==0.1.0) (1.26.4)\n",
            "Requirement already satisfied: wheel in /content/micromamba/envs/crisprware/lib/python3.12/site-packages (from lightgbm==3.3.5->crisprware==0.1.0) (0.44.0)\n",
            "Requirement already satisfied: scipy in /content/micromamba/envs/crisprware/lib/python3.12/site-packages (from lightgbm==3.3.5->crisprware==0.1.0) (1.14.1)\n",
            "Requirement already satisfied: scikit-learn!=0.22.0 in /content/micromamba/envs/crisprware/lib/python3.12/site-packages (from lightgbm==3.3.5->crisprware==0.1.0) (1.5.2)\n",
            "Requirement already satisfied: pysam in /content/micromamba/envs/crisprware/lib/python3.12/site-packages (from pybedtools>=0.9->crisprware==0.1.0) (0.22.1)\n",
            "Requirement already satisfied: pip in /content/micromamba/envs/crisprware/lib/python3.12/site-packages (from rs3>=0.0.15->crisprware==0.1.0) (24.2)\n",
            "Requirement already satisfied: packaging in /content/micromamba/envs/crisprware/lib/python3.12/site-packages (from rs3>=0.0.15->crisprware==0.1.0) (24.1)\n",
            "Requirement already satisfied: joblib>=1.0.1 in /content/micromamba/envs/crisprware/lib/python3.12/site-packages (from rs3>=0.0.15->crisprware==0.1.0) (1.4.2)\n",
            "Requirement already satisfied: sglearn>=1.2.5 in /content/micromamba/envs/crisprware/lib/python3.12/site-packages (from rs3>=0.0.15->crisprware==0.1.0) (1.2.5)\n",
            "Requirement already satisfied: tqdm>=4.61.2 in /content/micromamba/envs/crisprware/lib/python3.12/site-packages (from rs3>=0.0.15->crisprware==0.1.0) (4.66.5)\n",
            "Requirement already satisfied: pyarrow>=4.0.1 in /content/micromamba/envs/crisprware/lib/python3.12/site-packages (from rs3>=0.0.15->crisprware==0.1.0) (17.0.0)\n",
            "Requirement already satisfied: requests>=2.25.1 in /content/micromamba/envs/crisprware/lib/python3.12/site-packages (from rs3>=0.0.15->crisprware==0.1.0) (2.32.3)\n",
            "Requirement already satisfied: python-dateutil>=2.8.2 in /content/micromamba/envs/crisprware/lib/python3.12/site-packages (from pandas->crisprware==0.1.0) (2.9.0)\n",
            "Requirement already satisfied: pytz>=2020.1 in /content/micromamba/envs/crisprware/lib/python3.12/site-packages (from pandas->crisprware==0.1.0) (2024.2)\n",
            "Requirement already satisfied: tzdata>=2022.7 in /content/micromamba/envs/crisprware/lib/python3.12/site-packages (from pandas->crisprware==0.1.0) (2024.2)\n",
            "Requirement already satisfied: six>=1.5 in /content/micromamba/envs/crisprware/lib/python3.12/site-packages (from python-dateutil>=2.8.2->pandas->crisprware==0.1.0) (1.16.0)\n",
            "Requirement already satisfied: charset-normalizer<4,>=2 in /content/micromamba/envs/crisprware/lib/python3.12/site-packages (from requests>=2.25.1->rs3>=0.0.15->crisprware==0.1.0) (3.3.2)\n",
            "Requirement already satisfied: idna<4,>=2.5 in /content/micromamba/envs/crisprware/lib/python3.12/site-packages (from requests>=2.25.1->rs3>=0.0.15->crisprware==0.1.0) (3.10)\n",
            "Requirement already satisfied: urllib3<3,>=1.21.1 in /content/micromamba/envs/crisprware/lib/python3.12/site-packages (from requests>=2.25.1->rs3>=0.0.15->crisprware==0.1.0) (2.2.3)\n",
            "Requirement already satisfied: certifi>=2017.4.17 in /content/micromamba/envs/crisprware/lib/python3.12/site-packages (from requests>=2.25.1->rs3>=0.0.15->crisprware==0.1.0) (2024.8.30)\n",
            "Requirement already satisfied: threadpoolctl>=3.1.0 in /content/micromamba/envs/crisprware/lib/python3.12/site-packages (from scikit-learn!=0.22.0->lightgbm==3.3.5->crisprware==0.1.0) (3.5.0)\n",
            "Requirement already satisfied: seqfold>=0.7.7 in /content/micromamba/envs/crisprware/lib/python3.12/site-packages (from sglearn>=1.2.5->rs3>=0.0.15->crisprware==0.1.0) (0.7.18)\n",
            "Building wheels for collected packages: crisprware\n",
            "  Building wheel for crisprware (setup.py) ... \u001b[?25l\u001b[?25hdone\n",
            "  Created wheel for crisprware: filename=crisprware-0.1.0-py3-none-any.whl size=62480 sha256=0c2c27bdc932aa78ae36ad8a1091f17067766e0564560685b98a9f352bea8b9e\n",
            "  Stored in directory: /tmp/pip-ephem-wheel-cache-xsie7wnq/wheels/49/d7/cb/e2e426ba44c1c6ee042d0844ef83de0fd1b884eb93cadf962e\n",
            "Successfully built crisprware\n",
            "Installing collected packages: crisprware\n",
            "Successfully installed crisprware-0.1.0\n"
          ]
        }
      ]
    },
    {
      "cell_type": "code",
      "source": [
        "# A helper function to run commands in the crisprware environment\n",
        "# Wrap each module in this command before running\n",
        "# This is only required in the Colab environment\n",
        "def run_in_crisprware(command):\n",
        "  !/content/bin/micromamba run -n crisprware --root-prefix /content/micromamba {command}"
      ],
      "metadata": {
        "id": "Abxei8YWM5me"
      },
      "execution_count": 4,
      "outputs": []
    },
    {
      "cell_type": "markdown",
      "source": [
        "# Tutorial\n",
        "\n",
        "---\n",
        "\n"
      ],
      "metadata": {
        "id": "DiYeN1O3MpbQ"
      }
    },
    {
      "cell_type": "markdown",
      "source": [
        "## Preprocess annotation\n",
        "Use this module to reduce the complexity of genes with multiple isoforms."
      ],
      "metadata": {
        "id": "AMjBBsp4S5s8"
      }
    },
    {
      "cell_type": "markdown",
      "source": [
        "There are four simplified gene model options:\n",
        "\n",
        "\n",
        "*   longest\n",
        "*   shortest\n",
        "*   metagene\n",
        "*   consensus *italicized text*\n",
        "\n",
        "**longest** and **shortest** will take the isoform with the longest or shortest coding sequence (CDS).    \n",
        "**metagene** creates a new gene model by taking the *union* of CDSs of all isoforms for a given gene.  \n",
        "**consensus** creates a new gene model by taking the *intersection* of CDSs for all isoforms for a given gene.  Unlike the other models this can result in a gene model failing to be constructed if two isoforms have no overlap of CDS sequences. These genes are saved in a file called `genes_without_consensus_model.txt`"
      ],
      "metadata": {
        "id": "_B9X_WUBD5UP"
      }
    },
    {
      "cell_type": "code",
      "source": [
        "run_in_crisprware(\\\n",
        "                  'preprocess_annotation --gtf ./tests/test_data/ce11/chrIII_ce11.ncbiRefSeq.gtf \\\n",
        "                  --model metagene consensus longest shortest'\\\n",
        "                  )"
      ],
      "metadata": {
        "colab": {
          "base_uri": "https://localhost:8080/"
        },
        "id": "BMoELhsPOy4l",
        "outputId": "8972f614-14cd-41a0-89b1-fe77b91020c8"
      },
      "execution_count": 5,
      "outputs": [
        {
          "output_type": "stream",
          "name": "stdout",
          "text": [
            "\n",
            "\n",
            "\n",
            "\tSaving longest CDS GTF to: /content/crisprware/chrIII_ce11.ncbiRefSeq/chrIII_ce11.ncbiRefSeq_longestCDS.gtf\n",
            "\tSaving shortest CDS GTF to: /content/crisprware/chrIII_ce11.ncbiRefSeq/chrIII_ce11.ncbiRefSeq_shortestCDS.gtf\n",
            "\tSaving metagene GTF to: /content/crisprware/chrIII_ce11.ncbiRefSeq/chrIII_ce11.ncbiRefSeq_meta.gtf\n",
            "\tSaving consensus GTF to: /content/crisprware/chrIII_ce11.ncbiRefSeq/chrIII_ce11.ncbiRefSeq_consensus.gtf\n",
            "\n",
            "\tA CONSENSUS MODEL COULD NOT BE GENERATED FOR 22 GENES\n",
            "\tIf this number is large, consider filtering by TPM expression more strictly or using a more conservative GTF.\n",
            "\tIf this number is small, consider manually removing problematic transcripts from the quantification TSVs and rerunning this module.\n",
            "\tSaving genes for which there is no consensus model to:\t/content/crisprware/chrIII_ce11.ncbiRefSeq/chrIII_ce11.ncbiRefSeq_genes_without_consensus_model.txt\n",
            "\n",
            "\n"
          ]
        }
      ]
    },
    {
      "cell_type": "markdown",
      "source": [
        "This generates all four gene model GTFs for use:"
      ],
      "metadata": {
        "id": "tf_DsNeqYIN6"
      }
    },
    {
      "cell_type": "code",
      "source": [
        "%cd chrIII_ce11.ncbiRefSeq\n",
        "!ls *.gtf"
      ],
      "metadata": {
        "colab": {
          "base_uri": "https://localhost:8080/"
        },
        "id": "mCyB4RU7YGat",
        "outputId": "6f91b005-e992-40e3-f08d-6f23050d5378"
      },
      "execution_count": 6,
      "outputs": [
        {
          "output_type": "stream",
          "name": "stdout",
          "text": [
            "/content/crisprware/chrIII_ce11.ncbiRefSeq\n",
            "chrIII_ce11.ncbiRefSeq_consensus.gtf   chrIII_ce11.ncbiRefSeq_meta.gtf\n",
            "chrIII_ce11.ncbiRefSeq_longestCDS.gtf  chrIII_ce11.ncbiRefSeq_shortestCDS.gtf\n"
          ]
        }
      ]
    },
    {
      "cell_type": "markdown",
      "source": [
        "We can check which genes did not have consensus models:"
      ],
      "metadata": {
        "id": "ggDcqyxxUf4y"
      }
    },
    {
      "cell_type": "code",
      "source": [
        "!head -5 chrIII_ce11.ncbiRefSeq_genes_without_consensus_model.txt"
      ],
      "metadata": {
        "colab": {
          "base_uri": "https://localhost:8080/"
        },
        "id": "H6WHXsKeO0Sl",
        "outputId": "c66c4911-5d4e-4bb7-9fb6-ef2b43bd0abc"
      },
      "execution_count": 7,
      "outputs": [
        {
          "output_type": "stream",
          "name": "stdout",
          "text": [
            "nono-1\n",
            "let-805\n",
            "F25B5.3\n",
            "hecw-1\n",
            "pqn-41\n"
          ]
        }
      ]
    },
    {
      "cell_type": "markdown",
      "source": [
        "If we want to use consensus model genes for downstream analysis and include the metagene model for those genes without a consensus we can do so easily"
      ],
      "metadata": {
        "id": "m5KfGqMCYCIz"
      }
    },
    {
      "cell_type": "code",
      "source": [
        "!grep -Ff chrIII_ce11.ncbiRefSeq_genes_without_consensus_model.txt chrIII_ce11.ncbiRefSeq_meta.gtf | \\\n",
        "cat chrIII_ce11.ncbiRefSeq_consensus.gtf - > consensus_metagene.gtf\n",
        "%cd .."
      ],
      "metadata": {
        "colab": {
          "base_uri": "https://localhost:8080/"
        },
        "id": "dxBd7973YnDI",
        "outputId": "773eb5d4-d704-43d8-e3ed-3fb6a9289e38"
      },
      "execution_count": 8,
      "outputs": [
        {
          "output_type": "stream",
          "name": "stdout",
          "text": [
            "/content/crisprware\n"
          ]
        }
      ]
    },
    {
      "cell_type": "markdown",
      "source": [
        "### Processed RNASeq with preprocess_annotation\n",
        "\n",
        "In order to further reduce complexity and limit gRNA selection to expressed transcripts, we can make use of transcript per million (TPM) data from the following tools\n",
        "\n",
        "*   Salmon\n",
        "*   Kallisto\n",
        "*   FLAIR\n",
        "*   Mandalorian\n",
        "\n",
        "With default parameters all isoforms with TPM > 0 are retained. Use `--top_n <int>` to select only the top expressed isoforms per gene. By default the command infers the file type from the header line of the first input file (all input files should be from the same tool).\n",
        "\n",
        "This command will use use Salmon `quant.sf` files from three replicates to determine the `min`, `max`, `median`, and `mean` for each isoform. Then take the top two most highly expressed isoform for each gene `--top_n 2` according to the median transcript expression `--top_n_column median`, then create a metagene model `--model metagene` from those two isoforms (order of arguments doesn't matter, the execution is always in the stated order).\n",
        "\n",
        "This example uses the ncbiRefSeq GTF subsetted to chromsome 19 of Mm39."
      ],
      "metadata": {
        "id": "dndeGl-Qdddz"
      }
    },
    {
      "cell_type": "code",
      "source": [
        "run_in_crisprware('\\\n",
        "                  preprocess_annotation --tpm_files ./tests/test_data/processed_rna_seq/salmon/chr19*/*quant.sf \\\n",
        "                  --gtf ./tests/test_data/chr19_ucsc_mm39.ncbiRefSeq.gtf --top_n 2 \\\n",
        "                  --top_n_column median --model metagene'\\\n",
        "                  )"
      ],
      "metadata": {
        "colab": {
          "base_uri": "https://localhost:8080/"
        },
        "id": "wFlVA6wfdciJ",
        "outputId": "cb263ce3-b3d0-4104-8b73-b65f80765039"
      },
      "execution_count": 9,
      "outputs": [
        {
          "output_type": "stream",
          "name": "stdout",
          "text": [
            "\n",
            "\n",
            "\tProcessing isoform quantification files\n",
            "\n",
            "\tRemoving transcripts below threshold\n",
            "\n",
            "\tInferring file type from header line\n",
            "\n",
            "\t\t./tests/test_data/processed_rna_seq/salmon/chr19_ucscRefSeq.comprehensive.index_trimmed_WT_Rep1_SalmonQuant/chr19_quant.sf is a Salmon file\n",
            "\n",
            "\tInitial unique transcripts:\t\t\t3920\n",
            "\tTranscripts after filtering by expression:\t1091\n",
            "\n",
            "\tGenerating transcript-gene relationships\n",
            "\n",
            "\tSaving transcript-gene relationships to:\t/content/crisprware/chr19_ucsc_mm39.ncbiRefSeq/tmp/tx2gene.tsv\n",
            "\tRetaining top 2 transcripts per gene\n",
            "\tFinal unique genes:\t\t566\n",
            "\tFinal unique transcripts:\t830\n",
            "\tSaving quantification file to:\t\t/content/crisprware/chr19_ucsc_mm39.ncbiRefSeq/tmp/filtered_chr19_ucsc_mm39.ncbiRefSeq.tsv\n",
            "\tSaving transcript filtered GTF to:\t/content/crisprware/chr19_ucsc_mm39.ncbiRefSeq/chr19_ucsc_mm39.ncbiRefSeq_filtered.gtf\n",
            "\tSaving metagene GTF to: /content/crisprware/chr19_ucsc_mm39.ncbiRefSeq/chr19_ucsc_mm39.ncbiRefSeq_meta.gtf\n",
            "\n",
            "\n"
          ]
        }
      ]
    },
    {
      "cell_type": "markdown",
      "source": [
        "  The calculated TPM values are saved in this \"filtered\" TSV\n",
        "\n"
      ],
      "metadata": {
        "id": "OIkAq1y7-aAQ"
      }
    },
    {
      "cell_type": "code",
      "source": [
        "!head -5 /content/crisprware/chr19_ucsc_mm39.ncbiRefSeq/tmp/filtered_chr19_ucsc_mm39.ncbiRefSeq.tsv | cut -f1,2,6,7,8,9"
      ],
      "metadata": {
        "colab": {
          "base_uri": "https://localhost:8080/"
        },
        "id": "ly2sYau4maFE",
        "outputId": "0f87808a-3164-439c-b686-d0e9e34fbec4"
      },
      "execution_count": 10,
      "outputs": [
        {
          "output_type": "stream",
          "name": "stdout",
          "text": [
            "gene_id\ttranscript_id\ttscript_min\ttscript_max\ttscript_median\ttscript_mean\n",
            "1110059E24Rik\tNM_025423.2\t28.109\t29.568\t28.358\t28.678\n",
            "1700018L02Rik\tNR_028360.1\t0.078\t0.166\t0.1\t0.115\n",
            "1700023D09Rik\tNR_132423.1\t0.302\t0.745\t0.703\t0.583\n",
            "1810009A15Rik\tNM_025463.3\t86.062\t89.822\t87.896\t87.927\n"
          ]
        }
      ]
    },
    {
      "cell_type": "markdown",
      "source": [
        "### Targetting gene TSS and/or TES\n",
        "\n",
        "If you are interested in CRISPR targetting of gene transcription start sites (TSSs) or transcript end sites (TESs), you can set a window to generate BED coordinate files for downstream use. The first position in `--tss_window <int 1> <int 2>` is always the upstream distance from the TSS/TES and the second is the downstream. Strand orientation is automatically incorporated."
      ],
      "metadata": {
        "id": "VYER2IVfExX-"
      }
    },
    {
      "cell_type": "code",
      "source": [
        "run_in_crisprware('\\\n",
        "                  preprocess_annotation --tpm_files ./tests/test_data/processed_rna_seq/salmon/chr19*/*quant.sf \\\n",
        "                  --gtf ./tests/test_data/chr19_ucsc_mm39.ncbiRefSeq.gtf --top_n 10 \\\n",
        "                  --tss_window 200 150 --tes_window 100 150' \\\n",
        "                  )"
      ],
      "metadata": {
        "colab": {
          "base_uri": "https://localhost:8080/"
        },
        "id": "aukB1Ma8GZPZ",
        "outputId": "4cd05c24-a331-46a1-81d4-a80823aa8993"
      },
      "execution_count": 11,
      "outputs": [
        {
          "output_type": "stream",
          "name": "stdout",
          "text": [
            "\n",
            "\n",
            "\tProcessing isoform quantification files\n",
            "\n",
            "\tRemoving transcripts below threshold\n",
            "\n",
            "\tInferring file type from header line\n",
            "\n",
            "\t\t./tests/test_data/processed_rna_seq/salmon/chr19_ucscRefSeq.comprehensive.index_trimmed_WT_Rep1_SalmonQuant/chr19_quant.sf is a Salmon file\n",
            "\n",
            "\tInitial unique transcripts:\t\t\t3920\n",
            "\tTranscripts after filtering by expression:\t1091\n",
            "\n",
            "\tGenerating transcript-gene relationships\n",
            "\n",
            "\tSaving transcript-gene relationships to:\t/content/crisprware/chr19_ucsc_mm39.ncbiRefSeq/tmp/tx2gene.tsv\n",
            "\tRetaining top 10 transcripts per gene\n",
            "\tFinal unique genes:\t\t566\n",
            "\tFinal unique transcripts:\t1091\n",
            "\tSaving quantification file to:\t\t/content/crisprware/chr19_ucsc_mm39.ncbiRefSeq/tmp/filtered_chr19_ucsc_mm39.ncbiRefSeq.tsv\n",
            "\tSaving transcript filtered GTF to:\t/content/crisprware/chr19_ucsc_mm39.ncbiRefSeq/chr19_ucsc_mm39.ncbiRefSeq_filtered.gtf\n",
            "\n",
            "\tSaving TSS:\t/content/crisprware/chr19_ucsc_mm39.ncbiRefSeq/TSS_filtered.bed\n",
            "\tSaving TES:\t/content/crisprware/chr19_ucsc_mm39.ncbiRefSeq/TES_filtered.bed\n",
            "\n",
            "\n"
          ]
        }
      ]
    },
    {
      "cell_type": "markdown",
      "source": [
        "BED files are produced for both the filtered transcriptts and metagene model in this case. Remember that the metagene model TSS will be the most upstream TSS of whatever isoforms remain after filtering and consider whether this TSS is the best target. For expression knockdown it may be better to simply target the filtered isoforms as transcription from all such TSSs is supported."
      ],
      "metadata": {
        "id": "cgjvV2miGtQy"
      }
    },
    {
      "cell_type": "markdown",
      "source": [
        "## Index genome\n",
        "\n",
        "Use this module to build the Guidescan2 off-target index. We can create a small index using only chromosome III from the ce11 genome."
      ],
      "metadata": {
        "id": "hHocK_AuNjSs"
      }
    },
    {
      "cell_type": "code",
      "source": [
        "run_in_crisprware('index_genome --fasta tests/test_data/ce11/chrIII_sequence.fasta')"
      ],
      "metadata": {
        "colab": {
          "base_uri": "https://localhost:8080/"
        },
        "id": "rRaMIQrivbWy",
        "outputId": "809b3cc5-81c8-4f3d-8f84-8168b8ddb92c"
      },
      "execution_count": 12,
      "outputs": [
        {
          "output_type": "stream",
          "name": "stdout",
          "text": [
            "Attempting to read raw sequence file (if constructed)...\n",
            "No raw sequence file \"tests/test_data/ce11/chrIII_sequence.fasta.forward.dna\". Building now...\n",
            "No raw sequence file \"tests/test_data/ce11/chrIII_sequence.fasta.reverse.dna\". Building now...\n",
            "[2024-10-09 00:30:11.858] [guidescan2] [\u001b[32minfo\u001b[m] Constructing genomic index.\n",
            "[2024-10-09 00:30:11.875] [guidescan2] [\u001b[32minfo\u001b[m] Constructing forward genomic index.\n",
            "[2024-10-09 00:30:14.862] [guidescan2] [\u001b[32minfo\u001b[m] Constructing reverse genomic index.\n",
            "[2024-10-09 00:30:17.857] [guidescan2] [\u001b[32minfo\u001b[m] Index construction complete.\n",
            "\tRemoving file: tests/test_data/ce11/chrIII_sequence.fasta.forward.dna\n",
            "\tRemoving file: tests/test_data/ce11/chrIII_sequence.fasta.reverse.dna\n"
          ]
        }
      ]
    },
    {
      "cell_type": "code",
      "source": [
        "!ls ./chrIII_sequence_gscan2"
      ],
      "metadata": {
        "colab": {
          "base_uri": "https://localhost:8080/"
        },
        "id": "t2neU3AZvxuo",
        "outputId": "a29f9e98-b530-419f-81a5-ea835d9c9852"
      },
      "execution_count": 13,
      "outputs": [
        {
          "output_type": "stream",
          "name": "stdout",
          "text": [
            "chrIII_sequence_gscan2.forward\tchrIII_sequence_gscan2.gs  chrIII_sequence_gscan2.reverse\n"
          ]
        }
      ]
    },
    {
      "cell_type": "markdown",
      "source": [
        "For larger genomes the index build step requires substantial RAM which may be limiting on some computers. Precompiled indices for some species are available on the [Guidescan2 website](https://guidescan.com/downloads) and can be downloaded, e.g.  \n",
        "`wget https://guidescan.com/indices/ce11.zip && unzip ce11.zip`"
      ],
      "metadata": {
        "id": "501s3AjEwbDh"
      }
    },
    {
      "cell_type": "markdown",
      "source": [
        "### Active genome indexing\n",
        "\n",
        "Creating an index of the \"active genome\" is simple and amounts to limiting the off-target search space to predefined portions of the genome, thus increasing the relative number of gRNAs that will be considered uniquely targeting. This is done by subsetting the genome with the use of BED and/or GTF files. Any number of \"active genomes\" can be generated and used in later steps ranking steps. For example now we will created two indicies, one from the the coding sequences of expressed genes, the other from the entire gene body from our preprocessed annotations:"
      ],
      "metadata": {
        "id": "4y2Mo90rzNDV"
      }
    },
    {
      "cell_type": "code",
      "source": [
        "run_in_crisprware('index_genome -f tests/test_data/Mm39_chr19/chr19_GRCm39.primary_assembly.genome.fa.gz \\\n",
        "                  --locations_to_keep ./chr19_ucsc_mm39.ncbiRefSeq/chr19_ucsc_mm39.ncbiRefSeq_filtered.gtf \\\n",
        "                  --feature CDS')\n",
        "# rename CDS files\n",
        "%cd chr19_GRCm39.primary_assembly.genome_gscan2/\n",
        "!for file in chr19_GRCm39.primary_assembly.genome_*; do newfile=$(echo \"$file\" | sed 's/chr19_GRCm39\\.primary_assembly\\.genome/CDS/'); mv $file $newfile; done\n",
        "%cd ..\n",
        "\n",
        "run_in_crisprware('index_genome -f tests/test_data/Mm39_chr19/chr19_GRCm39.primary_assembly.genome.fa.gz \\\n",
        "                  --locations_to_keep ./chr19_ucsc_mm39.ncbiRefSeq/chr19_ucsc_mm39.ncbiRefSeq_meta.gtf\\\n",
        "                  --feature transcript')\n",
        "# rename CDS files\n",
        "%cd chr19_GRCm39.primary_assembly.genome_gscan2/\n",
        "!for file in chr19_GRCm39.primary_assembly.genome_*; do newfile=$(echo \"$file\" | sed 's/chr19_GRCm39\\.primary_assembly\\.genome/meta/'); mv $file $newfile; done\n",
        "%cd .."
      ],
      "metadata": {
        "colab": {
          "base_uri": "https://localhost:8080/"
        },
        "collapsed": true,
        "id": "MAdGoFvM2rFV",
        "outputId": "79bae849-e822-49fc-f5b5-295d64dd7cf6"
      },
      "execution_count": 14,
      "outputs": [
        {
          "output_type": "stream",
          "name": "stdout",
          "text": [
            "\tUnzipping tests/test_data/Mm39_chr19/chr19_GRCm39.primary_assembly.genome.fa.gz\n",
            "\tUnzipped file saved as tests/test_data/Mm39_chr19/chr19_GRCm39.primary_assembly.genome.fa\n",
            "\n",
            "\tSaving merged interval bed to /content/crisprware/chr19_GRCm39.primary_assembly.genome_gscan2/chr19_GRCm39.primary_assembly.genome_gscan2_merged.bed\n",
            "\n",
            "\tSaving subset fasta to /content/crisprware/chr19_GRCm39.primary_assembly.genome_gscan2/chr19_GRCm39.primary_assembly.genome_gscan2_subset.fasta\n",
            "\tBuilding Index from /content/crisprware/chr19_GRCm39.primary_assembly.genome_gscan2/chr19_GRCm39.primary_assembly.genome_gscan2_subset.fasta\n",
            "\tSaving Index to /content/crisprware/chr19_GRCm39.primary_assembly.genome_gscan2/chr19_GRCm39.primary_assembly.genome_gscan2\n",
            "Attempting to read raw sequence file (if constructed)...\n",
            "No raw sequence file \"/content/crisprware/chr19_GRCm39.primary_assembly.genome_gscan2/chr19_GRCm39.primary_assembly.genome_gscan2_subset.fasta.forward.dna\". Building now...\n",
            "No raw sequence file \"/content/crisprware/chr19_GRCm39.primary_assembly.genome_gscan2/chr19_GRCm39.primary_assembly.genome_gscan2_subset.fasta.reverse.dna\". Building now...\n",
            "[2024-10-09 00:30:21.548] [guidescan2] [\u001b[32minfo\u001b[m] Constructing genomic index.\n",
            "[2024-10-09 00:30:21.556] [guidescan2] [\u001b[32minfo\u001b[m] Constructing forward genomic index.\n",
            "[2024-10-09 00:30:21.770] [guidescan2] [\u001b[32minfo\u001b[m] Constructing reverse genomic index.\n",
            "[2024-10-09 00:30:22.003] [guidescan2] [\u001b[32minfo\u001b[m] Index construction complete.\n",
            "\tRemoving file: /content/crisprware/chr19_GRCm39.primary_assembly.genome_gscan2/chr19_GRCm39.primary_assembly.genome_gscan2_subset.fasta.forward.dna\n",
            "\tRemoving file: /content/crisprware/chr19_GRCm39.primary_assembly.genome_gscan2/chr19_GRCm39.primary_assembly.genome_gscan2_subset.fasta.reverse.dna\n",
            "\tRemoving file: /content/crisprware/chr19_GRCm39.primary_assembly.genome_gscan2/chr19_GRCm39.primary_assembly.genome_gscan2_subset.fasta\n",
            "/content/crisprware/chr19_GRCm39.primary_assembly.genome_gscan2\n",
            "/content/crisprware\n",
            "\tUnzipping tests/test_data/Mm39_chr19/chr19_GRCm39.primary_assembly.genome.fa.gz\n",
            "\tUnzipped file saved as tests/test_data/Mm39_chr19/chr19_GRCm39.primary_assembly.genome.fa\n",
            "\n",
            "\tSaving merged interval bed to /content/crisprware/chr19_GRCm39.primary_assembly.genome_gscan2/chr19_GRCm39.primary_assembly.genome_gscan2_merged.bed\n",
            "\n",
            "\tSaving subset fasta to /content/crisprware/chr19_GRCm39.primary_assembly.genome_gscan2/chr19_GRCm39.primary_assembly.genome_gscan2_subset.fasta\n",
            "\tBuilding Index from /content/crisprware/chr19_GRCm39.primary_assembly.genome_gscan2/chr19_GRCm39.primary_assembly.genome_gscan2_subset.fasta\n",
            "\tSaving Index to /content/crisprware/chr19_GRCm39.primary_assembly.genome_gscan2/chr19_GRCm39.primary_assembly.genome_gscan2\n",
            "Attempting to read raw sequence file (if constructed)...\n",
            "No raw sequence file \"/content/crisprware/chr19_GRCm39.primary_assembly.genome_gscan2/chr19_GRCm39.primary_assembly.genome_gscan2_subset.fasta.forward.dna\". Building now...\n",
            "No raw sequence file \"/content/crisprware/chr19_GRCm39.primary_assembly.genome_gscan2/chr19_GRCm39.primary_assembly.genome_gscan2_subset.fasta.reverse.dna\". Building now...\n",
            "[2024-10-09 00:30:24.914] [guidescan2] [\u001b[32minfo\u001b[m] Constructing genomic index.\n",
            "[2024-10-09 00:30:24.925] [guidescan2] [\u001b[32minfo\u001b[m] Constructing forward genomic index.\n",
            "[2024-10-09 00:30:29.170] [guidescan2] [\u001b[32minfo\u001b[m] Constructing reverse genomic index.\n",
            "[2024-10-09 00:30:33.725] [guidescan2] [\u001b[32minfo\u001b[m] Index construction complete.\n",
            "\tRemoving file: /content/crisprware/chr19_GRCm39.primary_assembly.genome_gscan2/chr19_GRCm39.primary_assembly.genome_gscan2_subset.fasta.forward.dna\n",
            "\tRemoving file: /content/crisprware/chr19_GRCm39.primary_assembly.genome_gscan2/chr19_GRCm39.primary_assembly.genome_gscan2_subset.fasta.reverse.dna\n",
            "\tRemoving file: /content/crisprware/chr19_GRCm39.primary_assembly.genome_gscan2/chr19_GRCm39.primary_assembly.genome_gscan2_subset.fasta\n",
            "/content/crisprware/chr19_GRCm39.primary_assembly.genome_gscan2\n",
            "/content/crisprware\n"
          ]
        }
      ]
    },
    {
      "cell_type": "markdown",
      "source": [
        "Now we have two off-target indices, one composed of CDS entries, the other of metagene transcripts (exons and introns from all metagene models). We will make use of these in the scoring guides section."
      ],
      "metadata": {
        "id": "WbiE9MfRCSEA"
      }
    },
    {
      "cell_type": "code",
      "source": [
        "%cd chr19_GRCm39.primary_assembly.genome_gscan2/\n",
        "!ls\n",
        "%cd .."
      ],
      "metadata": {
        "colab": {
          "base_uri": "https://localhost:8080/"
        },
        "id": "lKSd613pIiQ-",
        "outputId": "38bd2f69-bc43-4405-f382-72078edf18c9"
      },
      "execution_count": 15,
      "outputs": [
        {
          "output_type": "stream",
          "name": "stdout",
          "text": [
            "/content/crisprware/chr19_GRCm39.primary_assembly.genome_gscan2\n",
            "CDS_gscan2.forward  CDS_gscan2_merged.bed  meta_gscan2.forward\tmeta_gscan2_merged.bed\n",
            "CDS_gscan2.gs\t    CDS_gscan2.reverse\t   meta_gscan2.gs\tmeta_gscan2.reverse\n",
            "/content/crisprware\n"
          ]
        }
      ]
    },
    {
      "cell_type": "markdown",
      "source": [
        "## Generate gRNAs"
      ],
      "metadata": {
        "id": "RSRFP2Nn3Eax"
      }
    },
    {
      "cell_type": "markdown",
      "source": [
        "Continuing with the mouse chromosome 19 and annotation, let's find all NGG gRNAs in coding sequences"
      ],
      "metadata": {
        "id": "cUaoGJFRWIoU"
      }
    },
    {
      "cell_type": "code",
      "source": [
        "run_in_crisprware('\\\n",
        "                  generate_guides --fasta ./tests/test_data/Mm39_chr19/chr19_GRCm39.primary_assembly.genome.fa.gz \\\n",
        "                  --locations_to_keep ./tests/test_data/chr19_ucsc_mm39.ncbiRefSeq.gtf \\\n",
        "                  --feature CDS \\\n",
        "                  ')"
      ],
      "metadata": {
        "colab": {
          "base_uri": "https://localhost:8080/"
        },
        "id": "9MaHJfKkYqp_",
        "outputId": "46ce8e72-af40-49f9-a20b-b075e8f3cae4"
      },
      "execution_count": 16,
      "outputs": [
        {
          "output_type": "stream",
          "name": "stdout",
          "text": [
            "\tUnzipping ./tests/test_data/Mm39_chr19/chr19_GRCm39.primary_assembly.genome.fa.gz\n",
            "\tUnzipped file saved as ./tests/test_data/Mm39_chr19/chr19_GRCm39.primary_assembly.genome.fa\n",
            "\n",
            "\tChromosomes for which to find targets:\tchr19\n",
            "\tProcessing chr19\n",
            "\n",
            "\tSaved output file to /content/crisprware/chr19_GRCm39.primary_assembly.genome_gRNA/chr19_GRCm39.primary_assembly.genome_gRNA.bed\n",
            "\n",
            "\tRemoving file: ./tests/test_data/Mm39_chr19/chr19_GRCm39.primary_assembly.genome.fa\n"
          ]
        }
      ]
    },
    {
      "cell_type": "markdown",
      "source": [
        "This finds all NGG protospacers and outputs a BED/TSV. The fourth column will be used for Guidedscan2 scoring. By default the \"context\" column is formatted as 30 nucleotides centered on protospacer sequence for Ruleset 3 scoring."
      ],
      "metadata": {
        "id": "W8KoodL7OF5y"
      }
    },
    {
      "cell_type": "code",
      "source": [
        "!head -6 chr19_GRCm39.primary_assembly.genome_gRNA/chr19_GRCm39.primary_assembly.genome_gRNA.bed"
      ],
      "metadata": {
        "colab": {
          "base_uri": "https://localhost:8080/"
        },
        "id": "n_jOx6iFbHJD",
        "outputId": "74832067-d5ec-4491-85b6-9e9c40e2deb7"
      },
      "execution_count": 17,
      "outputs": [
        {
          "output_type": "stream",
          "name": "stdout",
          "text": [
            "#chr\tstart\tstop\tid,sequence,pam,chromosome,position,sense\tcontext\tstrand\n",
            "chr19\t3311533\t3311533\tchr19:3311518:+,GGGCCCTCTTGGCCGGGTCC,NGG,chr19,3311518,+\tAGCTGGGCCCTCTTGGCCGGGTCCAGGGCC\t+\n",
            "chr19\t3311989\t3311989\tchr19:3311974:+,CTTCAGGCAGATGGTGGCTG,NGG,chr19,3311974,+\tCTCACTTCAGGCAGATGGTGGCTGAGGCAG\t+\n",
            "chr19\t3312065\t3312065\tchr19:3312050:+,CGAGCACTTGGAGAAGCTAC,NGG,chr19,3312050,+\tTGGCCGAGCACTTGGAGAAGCTACAGGTGT\t+\n",
            "chr19\t3312097\t3312097\tchr19:3312082:+,CCTTCACCACAGCAGACACC,NGG,chr19,3312082,+\tTCAGCCTTCACCACAGCAGACACCAGGGCG\t+\n",
            "chr19\t3312119\t3312119\tchr19:3312104:+,GGCGTCGAAGTCCTCCTCAC,NGG,chr19,3312104,+\tCCAGGGCGTCGAAGTCCTCCTCACAGGGCA\t+\n"
          ]
        }
      ]
    },
    {
      "cell_type": "markdown",
      "source": [
        "## Score gRNAs\n",
        "\n",
        "Now we can score the gRNAs. First we will take the top 1,000 gRNAs to save time and we will score with both Ruleset3 tracr RNA options `--tracr both`. Then we will calculate specificty scores against the two Guidescan2 indices we created earlier."
      ],
      "metadata": {
        "id": "JA4ef9pORe6V"
      }
    },
    {
      "cell_type": "code",
      "source": [
        "!head -1001 chr19_GRCm39.primary_assembly.genome_gRNA/chr19_GRCm39.primary_assembly.genome_gRNA.bed > 1k_chr19.bed\n",
        "run_in_crisprware('\\\n",
        "                  score_guides --grna_bed 1k_chr19.bed \\\n",
        "                  --guidescan2_indices \\\n",
        "                  chr19_GRCm39.primary_assembly.genome_gscan2/CDS_gscan2 \\\n",
        "                  chr19_GRCm39.primary_assembly.genome_gscan2/meta_gscan2 \\\n",
        "                  --tracr both \\\n",
        "                  --threads 2 \\\n",
        "                  ')"
      ],
      "metadata": {
        "colab": {
          "base_uri": "https://localhost:8080/"
        },
        "id": "k9tmrhbIS87B",
        "outputId": "def634b2-b1a6-407d-ff5e-62c0603c7fea"
      },
      "execution_count": 18,
      "outputs": [
        {
          "output_type": "stream",
          "name": "stdout",
          "text": [
            "\n",
            "\tBefore dropping duplicates:\t1000\n",
            "\tAfter dropping duplicates:\t930\n",
            "\n",
            "\n",
            "\tBeginning RS3 cleavage scoring\n",
            "\tIf memory constrained reduce '--chunk_size'\n",
            "\n",
            "Calculating sequence-based features\n",
            "100% 930/930 [00:04<00:00, 232.04it/s]\n",
            "Calculating sequence-based features\n",
            "100% 930/930 [00:04<00:00, 210.02it/s]\n",
            "\n",
            "\tAfter dropping RS3 cleavage scores below -inf:\t930\n",
            "\n",
            "\n",
            "\tBeginning Guidescan2 specificity scoring against chr19_GRCm39.primary_assembly.genome_gscan2/CDS_gscan2\n",
            "\tIf memory constrained reduce '--chunk_size'\n",
            "\n",
            "input:/content/crisprware/1k_chr19_scoredgRNA/tmp/CDS_gscan2Input.1.csv\n",
            "\n",
            "\tSaved Guidescan input file to /content/crisprware/1k_chr19_scoredgRNA/tmp/CDS_gscan2Input.1.csv\n",
            "\n",
            "[2024-10-09 00:32:46.690] [guidescan2] [\u001b[32minfo\u001b[m] Loading genome index at \"chr19_GRCm39.primary_assembly.genome_gscan2/CDS_gscan2\".\n",
            "[2024-10-09 00:32:46.697] [guidescan2] [\u001b[32minfo\u001b[m] Successfully loaded genome index.\n",
            "[2024-10-09 00:32:46.697] [guidescan2] [\u001b[32minfo\u001b[m] Loading kmers.\n",
            "[2024-10-09 00:32:46.697] [guidescan2] [\u001b[32minfo\u001b[m] Read in 930 kmer(s).\n",
            "[2024-10-09 00:32:46.964] [guidescan2] [\u001b[32minfo\u001b[m] Processed: 100/930 kmers             Elapsed: 0 secs               Kmers/sec: inf\n",
            "[2024-10-09 00:32:47.221] [guidescan2] [\u001b[32minfo\u001b[m] Processed: 200/930 kmers             Elapsed: 0 secs               Kmers/sec: inf\n",
            "[2024-10-09 00:32:47.499] [guidescan2] [\u001b[32minfo\u001b[m] Processed: 300/930 kmers             Elapsed: 0 secs               Kmers/sec: inf\n",
            "[2024-10-09 00:32:47.753] [guidescan2] [\u001b[32minfo\u001b[m] Processed: 400/930 kmers             Elapsed: 1 secs               Kmers/sec: 400\n",
            "[2024-10-09 00:32:48.017] [guidescan2] [\u001b[32minfo\u001b[m] Processed: 500/930 kmers             Elapsed: 1 secs               Kmers/sec: 500\n",
            "[2024-10-09 00:32:48.283] [guidescan2] [\u001b[32minfo\u001b[m] Processed: 600/930 kmers             Elapsed: 1 secs               Kmers/sec: 600\n",
            "[2024-10-09 00:32:48.558] [guidescan2] [\u001b[32minfo\u001b[m] Processed: 700/930 kmers             Elapsed: 1 secs               Kmers/sec: 700\n",
            "[2024-10-09 00:32:48.818] [guidescan2] [\u001b[32minfo\u001b[m] Processed: 800/930 kmers             Elapsed: 2 secs               Kmers/sec: 400\n",
            "[2024-10-09 00:32:49.088] [guidescan2] [\u001b[32minfo\u001b[m] Processed: 900/930 kmers             Elapsed: 2 secs               Kmers/sec: 450\n",
            "[2024-10-09 00:32:49.164] [guidescan2] [\u001b[32minfo\u001b[m] Processed 930 kmers in 2 seconds.\n",
            "\n",
            "\tBeginning Guidescan2 specificity scoring against chr19_GRCm39.primary_assembly.genome_gscan2/meta_gscan2\n",
            "\tIf memory constrained reduce '--chunk_size'\n",
            "\n",
            "input:/content/crisprware/1k_chr19_scoredgRNA/tmp/meta_gscan2Input.1.csv\n",
            "\n",
            "\tSaved Guidescan input file to /content/crisprware/1k_chr19_scoredgRNA/tmp/meta_gscan2Input.1.csv\n",
            "\n",
            "[2024-10-09 00:32:49.184] [guidescan2] [\u001b[32minfo\u001b[m] Loading genome index at \"chr19_GRCm39.primary_assembly.genome_gscan2/meta_gscan2\".\n",
            "[2024-10-09 00:32:49.253] [guidescan2] [\u001b[32minfo\u001b[m] Successfully loaded genome index.\n",
            "[2024-10-09 00:32:49.253] [guidescan2] [\u001b[32minfo\u001b[m] Loading kmers.\n",
            "[2024-10-09 00:32:49.254] [guidescan2] [\u001b[32minfo\u001b[m] Read in 930 kmer(s).\n",
            "[2024-10-09 00:32:50.089] [guidescan2] [\u001b[32minfo\u001b[m] Processed: 100/930 kmers             Elapsed: 0 secs               Kmers/sec: inf\n",
            "[2024-10-09 00:32:50.889] [guidescan2] [\u001b[32minfo\u001b[m] Processed: 200/930 kmers             Elapsed: 1 secs               Kmers/sec: 200\n",
            "[2024-10-09 00:32:51.678] [guidescan2] [\u001b[32minfo\u001b[m] Processed: 300/930 kmers             Elapsed: 2 secs               Kmers/sec: 150\n",
            "[2024-10-09 00:32:52.482] [guidescan2] [\u001b[32minfo\u001b[m] Processed: 400/930 kmers             Elapsed: 3 secs               Kmers/sec: 133.3333\n",
            "[2024-10-09 00:32:53.289] [guidescan2] [\u001b[32minfo\u001b[m] Processed: 500/930 kmers             Elapsed: 4 secs               Kmers/sec: 125\n",
            "[2024-10-09 00:32:54.086] [guidescan2] [\u001b[32minfo\u001b[m] Processed: 600/930 kmers             Elapsed: 4 secs               Kmers/sec: 150\n",
            "[2024-10-09 00:32:54.894] [guidescan2] [\u001b[32minfo\u001b[m] Processed: 700/930 kmers             Elapsed: 5 secs               Kmers/sec: 140\n",
            "[2024-10-09 00:32:55.731] [guidescan2] [\u001b[32minfo\u001b[m] Processed: 800/930 kmers             Elapsed: 6 secs               Kmers/sec: 133.3333\n",
            "[2024-10-09 00:32:56.559] [guidescan2] [\u001b[32minfo\u001b[m] Processed: 900/930 kmers             Elapsed: 7 secs               Kmers/sec: 128.5714\n",
            "[2024-10-09 00:32:56.960] [guidescan2] [\u001b[32minfo\u001b[m] Processed 930 kmers in 7 seconds.\n",
            "\n",
            "\tSaved output file to /content/crisprware/1k_chr19_scoredgRNA/1k_chr19_scoredgRNA.bed\n",
            "\n"
          ]
        }
      ]
    },
    {
      "cell_type": "markdown",
      "source": [
        "We can check the score results:"
      ],
      "metadata": {
        "id": "-ACzYUYDXmrJ"
      }
    },
    {
      "cell_type": "code",
      "source": [
        "!head -6 1k_chr19_scoredgRNA/1k_chr19_scoredgRNA.bed"
      ],
      "metadata": {
        "colab": {
          "base_uri": "https://localhost:8080/"
        },
        "id": "rQA5lqZaXrNv",
        "outputId": "5a580395-d548-4468-b6e8-5b70112bddf6"
      },
      "execution_count": 19,
      "outputs": [
        {
          "output_type": "stream",
          "name": "stdout",
          "text": [
            "#chr\tstart\tstop\tcontext\tstrand\tsequence\tRS3_score_Hsu2013\tRS3_score_Chen2013\tspecificity_CDS_gscan2\tspecificity_meta_gscan2\n",
            "chr19\t3311533\t3311533\tAGCTGGGCCCTCTTGGCCGGGTCCAGGGCC\t+\tGGGCCCTCTTGGCCGGGTCC\t-1.9767\t-2.0397\t1.0\t1.0\n",
            "chr19\t3311989\t3311989\tCTCACTTCAGGCAGATGGTGGCTGAGGCAG\t+\tCTTCAGGCAGATGGTGGCTG\t0.1902\t-0.3443\t1.0\t1.0\n",
            "chr19\t3312065\t3312065\tTGGCCGAGCACTTGGAGAAGCTACAGGTGT\t+\tCGAGCACTTGGAGAAGCTAC\t-0.2774\t0.0063\t1.0\t1.0\n",
            "chr19\t3312097\t3312097\tTCAGCCTTCACCACAGCAGACACCAGGGCG\t+\tCCTTCACCACAGCAGACACC\t0.41\t0.3476\t1.0\t0.8922\n",
            "chr19\t3312119\t3312119\tCCAGGGCGTCGAAGTCCTCCTCACAGGGCA\t+\tGGCGTCGAAGTCCTCCTCAC\t0.2062\t0.4987\t1.0\t1.0\n"
          ]
        }
      ]
    },
    {
      "cell_type": "markdown",
      "source": [
        "## Rank gRNAs\n",
        "\n",
        "The final step is filtering and ranking gRNAs and matching them to their gene or transcript target.  \n",
        " - First we will filter out gRNAs that are not within the 5th-65th percentile of a coding sequence for a gene model in the metagene GTF: `--targets chr19_ucsc_mm39.ncbiRefSeq/chr19_ucsc_mm39.ncbiRefSeq_meta.gtf --feature CDS --percentile_range 5 65`  \n",
        " - Then we will filter out any gRNAs with scores less than 0.0 for either RS3 score method `--filtering_columns RS3_score_Chen2013 RS3_score_Chen2013 --minimum_values 0.0 0.0`.  \n",
        " - Finally, for each gene, we rank the remaining gRNAs according to the specificity score against the metagene_guidescane index `--ranking_columns specificity_meta_gscan2`, and select the top two `--number_of_guides 2`."
      ],
      "metadata": {
        "id": "k_dctX8hdu7v"
      }
    },
    {
      "cell_type": "code",
      "source": [
        "run_in_crisprware('\\\n",
        "                rank_guides \\\n",
        "                --scored_guides 1k_chr19_scoredgRNA/1k_chr19_scoredgRNA.bed \\\n",
        "                --targets chr19_ucsc_mm39.ncbiRefSeq/chr19_ucsc_mm39.ncbiRefSeq_meta.gtf \\\n",
        "                --feature CDS \\\n",
        "                --percentile_range 5 65 \\\n",
        "                --filtering_columns RS3_score_Chen2013 RS3_score_Chen2013 \\\n",
        "                --minimum_values 0.0 0.0 \\\n",
        "                --ranking_columns specificity_meta_gscan2 \\\n",
        "                --number_of_guides 2 \\\n",
        "                --output_all \\\n",
        "                ')"
      ],
      "metadata": {
        "colab": {
          "base_uri": "https://localhost:8080/"
        },
        "id": "NbEpzEOneGpD",
        "outputId": "f50fd6e9-536a-4599-94fb-4929b5238f4f"
      },
      "execution_count": 20,
      "outputs": [
        {
          "output_type": "stream",
          "name": "stdout",
          "text": [
            "\n",
            "\n",
            "\tColumn weights not set, setting weights to 1\n",
            "\n",
            "\tchr19_ucsc_mm39.ncbiRefSeq/chr19_ucsc_mm39.ncbiRefSeq_meta.gtf is GTF format\n",
            "\tProcessing: \tchr19_ucsc_mm39.ncbiRefSeq/chr19_ucsc_mm39.ncbiRefSeq_meta.gtf \n",
            "\tFeature: \tCDS \n",
            "\tPercentile range: \t[0, 100]\n",
            "\n",
            "\tInitial gene count:\t442\n",
            "\n",
            "\n",
            "\tPrior to positional filtering: \n",
            "\n",
            "#\tMedian number of gRNAs per target: 0.0\n",
            "#\tNumber of targets with 0 gRNA guides: 424\n",
            "#\n",
            "#\tCalculations exluding targets with 0 counts:\n",
            "#\n",
            "#\t\tMedian number of gRNAs per target: 33.5\n",
            "#\t\tMinimum number of gRNAs per target: 2\n",
            "#\t\tMaximum number of gRNAs per target: 130\n",
            "#\n",
            "#######################################################################\n",
            "\n",
            "\tProcessing: \tchr19_ucsc_mm39.ncbiRefSeq/chr19_ucsc_mm39.ncbiRefSeq_meta.gtf \n",
            "\tFeature: \tCDS \n",
            "\tPercentile range: \t[5, 65]\n",
            "\n",
            "\tNumber of CDS entries before processing: 4650\n",
            "\n",
            "\tNumber of CDS entries after processing: 3039\n",
            "\n",
            "\n",
            "\tPrior to filtering: \n",
            "\n",
            "#\tMedian number of gRNAs per target: 0.0\n",
            "#\tNumber of targets with 0 gRNA guides: 425\n",
            "#\n",
            "#\tCalculations exluding targets with 0 counts:\n",
            "#\n",
            "#\t\tMedian number of gRNAs per target: 18.0\n",
            "#\t\tMinimum number of gRNAs per target: 2\n",
            "#\t\tMaximum number of gRNAs per target: 77\n",
            "#\n",
            "#######################################################################\n",
            "\n",
            "\n",
            "\tFiltering column RS3_score_Chen2013 > 0.0\n",
            "\tRemaining gRNAs after applying cutoff 0.0 to 'RS3_score_Chen2013': 198\n",
            "\n",
            "#\tMedian number of gRNAs per target: 0.0\n",
            "#\tNumber of targets with 0 gRNA guides: 425\n",
            "#\n",
            "#\tCalculations exluding targets with 0 counts:\n",
            "#\n",
            "#\t\tMedian number of gRNAs per target: 9.0\n",
            "#\t\tMinimum number of gRNAs per target: 1\n",
            "#\t\tMaximum number of gRNAs per target: 45\n",
            "#\n",
            "#######################################################################\n",
            "\n",
            "\n",
            "\tFiltering column RS3_score_Chen2013 > 0.0\n",
            "\tRemaining gRNAs after applying cutoff 0.0 to 'RS3_score_Chen2013': 198\n",
            "\n",
            "#\tMedian number of gRNAs per target: 0.0\n",
            "#\tNumber of targets with 0 gRNA guides: 425\n",
            "#\n",
            "#\tCalculations exluding targets with 0 counts:\n",
            "#\n",
            "#\t\tMedian number of gRNAs per target: 9.0\n",
            "#\t\tMinimum number of gRNAs per target: 1\n",
            "#\t\tMaximum number of gRNAs per target: 45\n",
            "#\n",
            "#######################################################################\n",
            "\n",
            "\t--min_spacing=0, no filtering applied\n",
            "\n",
            "#\tMedian number of gRNAs per target: 0.0\n",
            "#\tNumber of targets with 0 gRNA guides: 425\n",
            "#\n",
            "#\tCalculations exluding targets with 0 counts:\n",
            "#\n",
            "#\t\tMedian number of gRNAs per target: 9.0\n",
            "#\t\tMinimum number of gRNAs per target: 1\n",
            "#\t\tMaximum number of gRNAs per target: 45\n",
            "#\n",
            "#######################################################################\n",
            "\n",
            "\tKeeping top 2 gRNAs per target, according to combined_weighted\n",
            "\n",
            "#\tMedian number of gRNAs per target: 0.0\n",
            "#\tNumber of targets with 0 gRNA guides: 425\n",
            "#\n",
            "#\tCalculations exluding targets with 0 counts:\n",
            "#\n",
            "#\t\tMedian number of gRNAs per target: 2.0\n",
            "#\t\tMinimum number of gRNAs per target: 1\n",
            "#\t\tMaximum number of gRNAs per target: 2\n",
            "#\n",
            "#######################################################################\n",
            "\n"
          ]
        }
      ]
    },
    {
      "cell_type": "markdown",
      "source": [
        "Any score columns, or any combination of score columns, can be used for filtering and ranking.  \n",
        "Then final output"
      ],
      "metadata": {
        "id": "ZqRx_CrAn8FQ"
      }
    },
    {
      "cell_type": "code",
      "source": [
        "!head -5 1k_chr19_rankedgRNA/1k_chr19_rankedgRNA.bed"
      ],
      "metadata": {
        "colab": {
          "base_uri": "https://localhost:8080/"
        },
        "id": "0FVOJFbkn7v3",
        "outputId": "1d9d04b6-e373-43c5-f470-a97ab34113ef"
      },
      "execution_count": 21,
      "outputs": [
        {
          "output_type": "stream",
          "name": "stdout",
          "text": [
            "#chr\tstart\tstop\tstrand\tsequence\tRS3_score_Hsu2013\tRS3_score_Chen2013\tspecificity_CDS_gscan2\tspecificity_meta_gscan2\ttarget_id\tspecificity_meta_gscan2_normalized\tcombined_weighted\n",
            "chr19\t3766551\t3766551\t+\tTGCTGAGGGACACAGTTCCA\t0.2244\t0.3005\t1.0\t1.0\t1810055G02Rik\t1.0\t1.0\n",
            "chr19\t3766705\t3766705\t+\tGAGCACTCCAACAACCAGAG\t0.9921\t0.4434\t1.0\t1.0\t1810055G02Rik\t1.0\t1.0\n",
            "chr19\t3968702\t3968702\t+\tTCTGGTTGATGATTCTGCCC\t0.5537\t0.3106\t1.0\t1.0\tAldh3b1\t1.0\t1.0\n",
            "chr19\t3968756\t3968756\t+\tAACGTGTGATGGCATTCTGT\t0.5134\t0.7794\t1.0\t1.0\tAldh3b1\t1.0\t1.0\n"
          ]
        }
      ]
    }
  ]
}